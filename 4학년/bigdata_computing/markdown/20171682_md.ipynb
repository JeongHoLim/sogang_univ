{
  "nbformat": 4,
  "nbformat_minor": 0,
  "metadata": {
    "colab": {
      "name": "20171682.ipynb",
      "provenance": [],
      "collapsed_sections": []
    },
    "kernelspec": {
      "name": "python3",
      "display_name": "Python 3"
    },
    "language_info": {
      "name": "python"
    }
  },
  "cells": [
    {
      "cell_type": "markdown",
      "source": [
        "This is an H1\n",
        "================="
      ],
      "metadata": {
        "id": "SB2cFKLAZhDX"
      }
    },
    {
      "cell_type": "markdown",
      "source": [
        "This is an H2\n",
        "-----------------"
      ],
      "metadata": {
        "id": "rbz5yHx4ZhIW"
      }
    },
    {
      "cell_type": "markdown",
      "source": [
        "# This is a H1\n",
        "## This is a H2\n",
        "### This is a H3\n",
        "#### This is a H4\n",
        "##### This is a H5\n",
        "###### This is a H6\n",
        "####### This is a H7(not working)"
      ],
      "metadata": {
        "id": "2lsGGsH7ZhS5"
      }
    },
    {
      "cell_type": "markdown",
      "source": [
        "> This is a first blockqute.\n",
        ">> This is a seconde blockquote.\n",
        ">>> This is a third blockquote."
      ],
      "metadata": {
        "id": "0z1Et6zKZhXc"
      }
    },
    {
      "cell_type": "markdown",
      "source": [
        "* 빨강\n",
        "    * 녹색\n",
        "        * 파랑\n",
        "+ 빨강\n",
        "    + 녹색\n",
        "        +파랑\n",
        "- 빨강\n",
        "    - 녹색\n",
        "        - 파랑\n",
        "* 1단계\n",
        "    - 2단계\n",
        "        + 3단계\n",
        "            + 4단계"
      ],
      "metadata": {
        "id": "XrI5ijMdZhaB"
      }
    },
    {
      "cell_type": "markdown",
      "source": [
        "This is a normal paragraph:\n",
        "\n",
        "    This is a code block.\n",
        "\n",
        "end code block."
      ],
      "metadata": {
        "id": "SRjVm6YOZXeQ"
      }
    },
    {
      "cell_type": "markdown",
      "source": [
        "* * *\n",
        "\n",
        "***\n",
        "\n",
        "*****\n",
        "\n",
        "********\n",
        "\n",
        "----------\n",
        "\n",
        "- - -\n"
      ],
      "metadata": {
        "id": "X1p-02cFa1_5"
      }
    },
    {
      "cell_type": "markdown",
      "source": [
        "[Google](https://google.com,\"google.link\")\n",
        "\n",
        "* 외부링크 : <http://example.com/>\n",
        "* 이메일 링크 : <address@example.com>\n"
      ],
      "metadata": {
        "id": "lINNkUZ6a2Bx"
      }
    },
    {
      "cell_type": "markdown",
      "source": [
        "*single astrerisks*\n",
        "_single underscores_\n",
        "**double asterisks**\n",
        "__double underscores__\n",
        "~~ cancelline ~~\n"
      ],
      "metadata": {
        "id": "-E8QvW1na2Hg"
      }
    },
    {
      "cell_type": "code",
      "source": [
        ""
      ],
      "metadata": {
        "id": "0nlMwoMrboxv"
      },
      "execution_count": null,
      "outputs": []
    },
    {
      "cell_type": "markdown",
      "source": [
        ""
      ],
      "metadata": {
        "id": "IxMa0WP9a2JN"
      }
    },
    {
      "cell_type": "markdown",
      "source": [
        ""
      ],
      "metadata": {
        "id": "psyl22vZa2Of"
      }
    },
    {
      "cell_type": "markdown",
      "source": [
        ""
      ],
      "metadata": {
        "id": "dPtZ6hLza2QK"
      }
    }
  ]
}