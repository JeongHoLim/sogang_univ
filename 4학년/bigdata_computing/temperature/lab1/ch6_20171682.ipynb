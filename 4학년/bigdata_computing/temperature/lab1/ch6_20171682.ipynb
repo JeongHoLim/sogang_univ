{
  "nbformat": 4,
  "nbformat_minor": 0,
  "metadata": {
    "colab": {
      "name": "ch6_20171682.ipynb",
      "provenance": [],
      "collapsed_sections": []
    },
    "kernelspec": {
      "name": "python3",
      "display_name": "Python 3"
    },
    "language_info": {
      "name": "python"
    }
  },
  "cells": [
    {
      "cell_type": "code",
      "execution_count": null,
      "metadata": {
        "colab": {
          "base_uri": "https://localhost:8080/",
          "height": 35
        },
        "id": "-Z3x-aJhFLfS",
        "outputId": "bd457cad-6717-45be-a59c-0e789a0fe7f3"
      },
      "outputs": [
        {
          "output_type": "execute_result",
          "data": {
            "text/plain": [
              "'/content'"
            ],
            "application/vnd.google.colaboratory.intrinsic+json": {
              "type": "string"
            }
          },
          "metadata": {},
          "execution_count": 2
        }
      ],
      "source": [
        "%pwd"
      ]
    },
    {
      "cell_type": "code",
      "source": [
        ""
      ],
      "metadata": {
        "id": "dL4dVUIyGSix"
      },
      "execution_count": null,
      "outputs": []
    },
    {
      "cell_type": "code",
      "source": [
        "from google.colab import drive\n",
        "import os\n",
        "import csv"
      ],
      "metadata": {
        "id": "nZOl7MEUFcg4"
      },
      "execution_count": null,
      "outputs": []
    },
    {
      "cell_type": "code",
      "source": [
        "drive.mount('./gdrive',force_remount=True)\n",
        "print(os.getcwd())\n",
        "f = open(\"./gdrive/MyDrive/Colab Notebooks/temperature.csv\",\"r\",encoding=\"cp949\")\n",
        "data = csv.reader(f,delimiter=\",\")\n",
        "header = next(data)\n",
        "date,temp = \"\",float('-inf')\n",
        "\n",
        "for row in data:\n",
        "    if not row[-1] : continue\n",
        "    if temp < float(row[-1]):              \n",
        "        temp,date = float(row[-1]),row[0]\n",
        "\n",
        "print(f\"기상 관측 이래, 최고 기온이 가장 높았던 날은 {date}로, {temp} 도 입니다.\")\n",
        "\n",
        "f.close()\n"
      ],
      "metadata": {
        "id": "PsKHF5l2Fh2p",
        "colab": {
          "base_uri": "https://localhost:8080/"
        },
        "outputId": "4d601ced-a307-4935-bd3c-b81b6ef5def5"
      },
      "execution_count": null,
      "outputs": [
        {
          "output_type": "stream",
          "name": "stdout",
          "text": [
            "Mounted at ./gdrive\n",
            "/content\n",
            "기상 관측 이래, 최고 기온이 가장 높았던 날은 2018-08-01로, 39.6 도 입니다.\n"
          ]
        }
      ]
    },
    {
      "cell_type": "markdown",
      "source": [
        "# 발생한 에러\n",
        "\n",
        "Python ValueError: could not convert string to float\n",
        "\n",
        "\n",
        "# 발생 원인 \n",
        "\n",
        "float함수의 파라미터로 빈 문자열을 넘겼을 때 발생\n",
        "\n",
        "\n",
        "# 현재 데이터에서 발생한 이유\n",
        "\n",
        "기상 데이터 중간에 기록되지 않은 날짜가 존재\n",
        "\n",
        "# 해결 방안\n",
        "\n",
        "row[-1]이 최고 기온 데이터이므로, row[-1]이 빈 문자열인지 검사하여,\n",
        "빈 문자열일 경우 continue로 무시하도록 함.\n"
      ],
      "metadata": {
        "id": "KBZzs9AqNI_P"
      }
    },
    {
      "cell_type": "code",
      "source": [
        ""
      ],
      "metadata": {
        "id": "VfAeNLO6Oble"
      },
      "execution_count": null,
      "outputs": []
    }
  ]
}