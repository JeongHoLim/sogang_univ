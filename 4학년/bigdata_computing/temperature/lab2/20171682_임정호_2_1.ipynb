{
  "nbformat": 4,
  "nbformat_minor": 0,
  "metadata": {
    "colab": {
      "name": "Untitled3.ipynb",
      "provenance": [],
      "collapsed_sections": []
    },
    "kernelspec": {
      "name": "python3",
      "display_name": "Python 3"
    },
    "language_info": {
      "name": "python"
    }
  },
  "cells": [
    {
      "cell_type": "code",
      "execution_count": 1,
      "metadata": {
        "id": "XOUGg1FwbHUo"
      },
      "outputs": [],
      "source": [
        "import matplotlib.pyplot as plt\n",
        "import matplotlib.font_manager as fm\n",
        "import warnings\n",
        "from google.colab import drive\n",
        "import csv\n",
        "import matplotlib.pyplot as plt\n",
        "\n",
        "warnings.filterwarnings(action='ignore')\n",
        "import matplotlib.font_manager as fm\n",
        "\n"
      ]
    },
    {
      "cell_type": "code",
      "source": [
        "!apt-get install fonts-nanum* -qq\n",
        "!rm ~/.cache/matplotlib -rf \n"
      ],
      "metadata": {
        "id": "LV4emPsTgbof"
      },
      "execution_count": 32,
      "outputs": []
    },
    {
      "cell_type": "code",
      "source": [
        "plt.rc('font',family=\"NanumGothic\")\n",
        "fm._rebuild()\n",
        "plt.rcParams[\"axes.unicode_minus\"] = False"
      ],
      "metadata": {
        "id": "Wvwfsb4ygUM3"
      },
      "execution_count": 2,
      "outputs": []
    },
    {
      "cell_type": "markdown",
      "source": [
        "# 데이터 받기"
      ],
      "metadata": {
        "id": "EEHwh-T9bXNu"
      }
    },
    {
      "cell_type": "code",
      "source": [
        "drive.mount(\"./gdrive\",force_remount = True)\n",
        "f = open(\"./gdrive/MyDrive/Colab Notebooks/temperature.csv\",\"r\",encoding=\"cp949\")\n",
        "data = csv.reader(f,delimiter=\",\")\n",
        "header = next(data)\n",
        "print(f\"header : {header}\")\n",
        "\n",
        "temperatures = []\n",
        "for row in data:\n",
        "    if not row[-1]: continue\n",
        "    temperatures.append(row)\n",
        "\n",
        "\n",
        "temperatures[:10]"
      ],
      "metadata": {
        "colab": {
          "base_uri": "https://localhost:8080/"
        },
        "id": "gn_3Zw_9bTjq",
        "outputId": "4ba8f224-45cc-4be2-f802-96c5c172cdf4"
      },
      "execution_count": 3,
      "outputs": [
        {
          "output_type": "stream",
          "name": "stdout",
          "text": [
            "Mounted at ./gdrive\n",
            "header : ['날짜', '지점', '평균기온(℃)', '최저기온(℃)', '최고기온(℃)']\n"
          ]
        },
        {
          "output_type": "execute_result",
          "data": {
            "text/plain": [
              "[['1907-10-01', '108', '13.5', '7.9', '20.7'],\n",
              " ['1907-10-02', '108', '16.2', '7.9', '22'],\n",
              " ['1907-10-03', '108', '16.2', '13.1', '21.3'],\n",
              " ['1907-10-04', '108', '16.5', '11.2', '22'],\n",
              " ['1907-10-05', '108', '17.6', '10.9', '25.4'],\n",
              " ['1907-10-06', '108', '13', '11.2', '21.3'],\n",
              " ['1907-10-07', '108', '11.3', '6.3', '16.1'],\n",
              " ['1907-10-08', '108', '8.9', '3.9', '14.9'],\n",
              " ['1907-10-09', '108', '11.6', '3.8', '21.1'],\n",
              " ['1907-10-10', '108', '14.2', '6.4', '24.1']]"
            ]
          },
          "metadata": {},
          "execution_count": 3
        }
      ]
    },
    {
      "cell_type": "markdown",
      "source": [
        "# 과제2_1\n",
        "\n",
        "## 1980년 이후 1월 1일의 최고, 최저 기온 데이터 시각화"
      ],
      "metadata": {
        "id": "NO3jwq4odTpM"
      }
    },
    {
      "cell_type": "code",
      "source": [
        "temperatures_one_one = [x for x in temperatures if x[0].split(\"-\")[0] >= \"1980\" and x [0].split(\"-\")[1:] == ['01','01']]\n",
        "one_one_max_temp = [float(x[-1]) for x in temperatures_one_one]\n",
        "one_one_min_temp = [float(x[-2]) for x in temperatures_one_one]\n",
        "\n",
        "print(one_one_max_temp[:5])\n",
        "print(one_one_min_temp[:5])\n"
      ],
      "metadata": {
        "colab": {
          "base_uri": "https://localhost:8080/"
        },
        "id": "bCc7P3mCdCvw",
        "outputId": "c5eec0e9-db8d-49a4-a1c6-c53e284a8102"
      },
      "execution_count": 4,
      "outputs": [
        {
          "output_type": "stream",
          "name": "stdout",
          "text": [
            "[6.6, -0.2, 0.2, 5.9, -0.2]\n",
            "[0.5, -6.3, -5.3, -4.7, -9.7]\n"
          ]
        }
      ]
    },
    {
      "cell_type": "code",
      "source": [
        "plt.plot(one_one_max_temp,color = \"r\",label = \"최고기온\")\n",
        "plt.plot(one_one_min_temp,color = \"b\",label=\"최저기온\")\n",
        "plt.legend(loc=\"upper right\")\n",
        "plt.show()"
      ],
      "metadata": {
        "colab": {
          "base_uri": "https://localhost:8080/",
          "height": 264
        },
        "id": "v89RqWSld7Ql",
        "outputId": "afa79599-8a82-429f-9b2c-932b5c278879"
      },
      "execution_count": 5,
      "outputs": [
        {
          "output_type": "display_data",
          "data": {
            "text/plain": [
              "<Figure size 432x288 with 1 Axes>"
            ],
            "image/png": "[encoded data removed]"
          },
          "metadata": {
            "needs_background": "light"
          }
        }
      ]
    },
    {
      "cell_type": "code",
      "source": [
        ""
      ],
      "metadata": {
        "id": "S6gGT-LUorQS"
      },
      "execution_count": null,
      "outputs": []
    }
  ]
}