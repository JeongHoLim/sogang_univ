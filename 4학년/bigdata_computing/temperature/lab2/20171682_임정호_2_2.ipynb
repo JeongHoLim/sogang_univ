{
  "nbformat": 4,
  "nbformat_minor": 0,
  "metadata": {
    "colab": {
      "name": "Untitled3.ipynb",
      "provenance": [],
      "collapsed_sections": []
    },
    "kernelspec": {
      "name": "python3",
      "display_name": "Python 3"
    },
    "language_info": {
      "name": "python"
    }
  },
  "cells": [
    {
      "cell_type": "code",
      "execution_count": 1,
      "metadata": {
        "id": "XOUGg1FwbHUo"
      },
      "outputs": [],
      "source": [
        "import matplotlib.pyplot as plt\n",
        "import matplotlib.font_manager as fm\n",
        "import warnings\n",
        "from google.colab import drive\n",
        "import csv\n",
        "import matplotlib.pyplot as plt\n",
        "\n",
        "warnings.filterwarnings(action='ignore')\n",
        "import matplotlib.font_manager as fm\n",
        "\n"
      ]
    },
    {
      "cell_type": "code",
      "source": [
        "!apt-get install fonts-nanum* -qq\n",
        "!rm ~/.cache/matplotlib -rf \n"
      ],
      "metadata": {
        "id": "LV4emPsTgbof"
      },
      "execution_count": 32,
      "outputs": []
    },
    {
      "cell_type": "code",
      "source": [
        "plt.rc('font',family=\"NanumGothic\")\n",
        "fm._rebuild()\n",
        "plt.rcParams[\"axes.unicode_minus\"] = False"
      ],
      "metadata": {
        "id": "Wvwfsb4ygUM3"
      },
      "execution_count": 2,
      "outputs": []
    },
    {
      "cell_type": "markdown",
      "source": [
        "# 데이터 받기"
      ],
      "metadata": {
        "id": "EEHwh-T9bXNu"
      }
    },
    {
      "cell_type": "code",
      "source": [
        "drive.mount(\"./gdrive\",force_remount = True)\n",
        "f = open(\"./gdrive/MyDrive/Colab Notebooks/temperature.csv\",\"r\",encoding=\"cp949\")\n",
        "data = csv.reader(f,delimiter=\",\")\n",
        "header = next(data)\n",
        "print(f\"header : {header}\")\n",
        "\n",
        "temperatures = []\n",
        "for row in data:\n",
        "    if not row[-1]: continue\n",
        "    temperatures.append(row)\n",
        "\n",
        "\n",
        "temperatures[:10]"
      ],
      "metadata": {
        "colab": {
          "base_uri": "https://localhost:8080/"
        },
        "id": "gn_3Zw_9bTjq",
        "outputId": "4ba8f224-45cc-4be2-f802-96c5c172cdf4"
      },
      "execution_count": 3,
      "outputs": [
        {
          "output_type": "stream",
          "name": "stdout",
          "text": [
            "Mounted at ./gdrive\n",
            "header : ['날짜', '지점', '평균기온(℃)', '최저기온(℃)', '최고기온(℃)']\n"
          ]
        },
        {
          "output_type": "execute_result",
          "data": {
            "text/plain": [
              "[['1907-10-01', '108', '13.5', '7.9', '20.7'],\n",
              " ['1907-10-02', '108', '16.2', '7.9', '22'],\n",
              " ['1907-10-03', '108', '16.2', '13.1', '21.3'],\n",
              " ['1907-10-04', '108', '16.5', '11.2', '22'],\n",
              " ['1907-10-05', '108', '17.6', '10.9', '25.4'],\n",
              " ['1907-10-06', '108', '13', '11.2', '21.3'],\n",
              " ['1907-10-07', '108', '11.3', '6.3', '16.1'],\n",
              " ['1907-10-08', '108', '8.9', '3.9', '14.9'],\n",
              " ['1907-10-09', '108', '11.6', '3.8', '21.1'],\n",
              " ['1907-10-10', '108', '14.2', '6.4', '24.1']]"
            ]
          },
          "metadata": {},
          "execution_count": 3
        }
      ]
    },
    {
      "cell_type": "markdown",
      "source": [
        "# 과제2_2\n",
        "\n",
        "## 기온데이터 중 1월과 8월의 최고 기온을 히스토그램으로 표현"
      ],
      "metadata": {
        "id": "YdLtEyOzhkZ8"
      }
    },
    {
      "cell_type": "code",
      "source": [
        "januray = [float(x[-1]) for x in temperatures if x[0].split(\"-\")[1] == \"01\"]\n",
        "august = [float(x[-1]) for x in temperatures if x[0].split(\"-\")[1] == \"08\"]\n",
        "\n",
        "print(januray[:5])\n",
        "print(august[:5])\n",
        "\n",
        "\n"
      ],
      "metadata": {
        "colab": {
          "base_uri": "https://localhost:8080/"
        },
        "id": "WrbFIdZEfTXU",
        "outputId": "ce147de6-aeeb-4044-a6e8-3977560cebfd"
      },
      "execution_count": 6,
      "outputs": [
        {
          "output_type": "stream",
          "name": "stdout",
          "text": [
            "[-1.3, -3.0, -2.9, -1.7, -0.1]\n",
            "[29.6, 30.7, 32.0, 31.5, 32.4]\n"
          ]
        }
      ]
    },
    {
      "cell_type": "code",
      "source": [
        "plt.title(\"1월과 8월의 최고 기온\")\n",
        "plt.hist(januray,bins=100, label='1월',color = \"b\")\n",
        "plt.hist(august, bins=100, label='8월',color = \"r\")\n",
        "plt.legend(loc = \"upper right\")\n",
        "plt.show()"
      ],
      "metadata": {
        "colab": {
          "base_uri": "https://localhost:8080/",
          "height": 279
        },
        "id": "SlQbDaV6iD4t",
        "outputId": "5e84c3af-3222-4608-e2d7-b85414c25021"
      },
      "execution_count": 7,
      "outputs": [
        {
          "output_type": "display_data",
          "data": {
            "text/plain": [
              "<Figure size 432x288 with 1 Axes>"
            ],
            "image/png": "[encoded data removed]"
          },
          "metadata": {
            "needs_background": "light"
          }
        }
      ]
    }
  ]
}