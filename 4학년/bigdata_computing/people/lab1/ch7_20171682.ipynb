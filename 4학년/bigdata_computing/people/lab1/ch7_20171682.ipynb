{
  "nbformat": 4,
  "nbformat_minor": 0,
  "metadata": {
    "colab": {
      "name": "ch7_20171682.ipynb",
      "provenance": []
    },
    "kernelspec": {
      "name": "python3",
      "display_name": "Python 3"
    },
    "language_info": {
      "name": "python"
    }
  },
  "cells": [
    {
      "cell_type": "code",
      "source": [
        "from google.colab import drive\n",
        "import csv\n",
        "import matplotlib.font_manager as fm\n",
        "import matplotlib.pyplot as plt"
      ],
      "metadata": {
        "id": "YYYGy1kpUBaV"
      },
      "execution_count": 1,
      "outputs": []
    },
    {
      "cell_type": "code",
      "source": [
        "!apt-get install fonts-nanum* -qq\n",
        "!rm ~/.cache/matplotlib -rf"
      ],
      "metadata": {
        "id": "llNsaVtzXLgE"
      },
      "execution_count": null,
      "outputs": []
    },
    {
      "cell_type": "code",
      "source": [
        "font_name = fm.FontProperties(fname = '/usr/share/fonts/truetype/nanum/NanumGothic.ttf',size = 10).get_name()\n",
        "plt.rc('font', family = font_name)"
      ],
      "metadata": {
        "id": "_MhsVdbvXNDQ"
      },
      "execution_count": 2,
      "outputs": []
    },
    {
      "cell_type": "code",
      "execution_count": 3,
      "metadata": {
        "colab": {
          "base_uri": "https://localhost:8080/",
          "height": 316
        },
        "id": "23q-JgzWTmzr",
        "outputId": "1f6e254d-5d82-4d76-d918-6de9a91f62af"
      },
      "outputs": [
        {
          "name": "stdout",
          "output_type": "stream",
          "text": [
            "Mounted at ./gdrive\n",
            "인구 구조를 알고 싶은 구의 이름을 입력하세요 (ex: 종로구): 종로구\n"
          ]
        },
        {
          "output_type": "display_data",
          "data": {
            "text/plain": [
              "<Figure size 432x288 with 1 Axes>"
            ],
            "image/png": "[encoded data removed]"
          },
          "metadata": {}
        }
      ],
      "source": [
        "drive.mount(\"./gdrive\",force_remount = True)\n",
        "f = open(\"./gdrive/MyDrive/Colab Notebooks/인구공공데이터.csv\",\"r\",encoding=\"cp949\")\n",
        "data = csv.reader(f,delimiter=\",\")\n",
        "header = next(data)\n",
        "\n",
        "gu = input(\"인구 구조를 알고 싶은 구의 이름을 입력하세요 (ex: 종로구): \")\n",
        "result = []\n",
        "for row in data:\n",
        "    if gu in row[0]:\n",
        "        for i in row[3:]:\n",
        "            result.append(int(i.replace(\",\",\"\")))\n",
        "        break\n",
        "\n",
        "plt.style.use(\"ggplot\")\n",
        "plt.title(f\"{gu}의 인구구조\")\n",
        "plt.plot(result)\n",
        "plt.show()\n",
        "\n",
        "f.close()"
      ]
    },
    {
      "cell_type": "code",
      "source": [
        ""
      ],
      "metadata": {
        "id": "tGU53RIza0tE"
      },
      "execution_count": null,
      "outputs": []
    }
  ]
}