{
  "cells": [
    {
      "cell_type": "code",
      "execution_count": 2,
      "metadata": {
        "colab": {
          "base_uri": "https://localhost:8080/"
        },
        "id": "vfNfHIKA7HyO",
        "outputId": "06706b57-a338-41e2-abc4-f4052bb4fb2a"
      },
      "outputs": [
        {
          "output_type": "stream",
          "name": "stdout",
          "text": [
            "Requirement already satisfied: IPython in /usr/local/lib/python3.7/dist-packages (5.5.0)\n",
            "Requirement already satisfied: pickleshare in /usr/local/lib/python3.7/dist-packages (from IPython) (0.7.5)\n",
            "Requirement already satisfied: simplegeneric>0.8 in /usr/local/lib/python3.7/dist-packages (from IPython) (0.8.1)\n",
            "Requirement already satisfied: pexpect in /usr/local/lib/python3.7/dist-packages (from IPython) (4.8.0)\n",
            "Requirement already satisfied: prompt-toolkit<2.0.0,>=1.0.4 in /usr/local/lib/python3.7/dist-packages (from IPython) (1.0.18)\n",
            "Requirement already satisfied: setuptools>=18.5 in /usr/local/lib/python3.7/dist-packages (from IPython) (57.4.0)\n",
            "Requirement already satisfied: pygments in /usr/local/lib/python3.7/dist-packages (from IPython) (2.6.1)\n",
            "Requirement already satisfied: traitlets>=4.2 in /usr/local/lib/python3.7/dist-packages (from IPython) (5.1.1)\n",
            "Requirement already satisfied: decorator in /usr/local/lib/python3.7/dist-packages (from IPython) (4.4.2)\n",
            "Requirement already satisfied: wcwidth in /usr/local/lib/python3.7/dist-packages (from prompt-toolkit<2.0.0,>=1.0.4->IPython) (0.2.5)\n",
            "Requirement already satisfied: six>=1.9.0 in /usr/local/lib/python3.7/dist-packages (from prompt-toolkit<2.0.0,>=1.0.4->IPython) (1.15.0)\n",
            "Requirement already satisfied: ptyprocess>=0.5 in /usr/local/lib/python3.7/dist-packages (from pexpect->IPython) (0.7.0)\n"
          ]
        }
      ],
      "source": [
        "!pip install IPython"
      ]
    },
    {
      "cell_type": "markdown",
      "metadata": {
        "id": "GnIGP3XoPZFa"
      },
      "source": [
        "#### colab에서 실행시 다음 주석문을 풀어 실행시킨다."
      ]
    },
    {
      "cell_type": "code",
      "execution_count": 1,
      "metadata": {
        "id": "XbPDbSM87LbC",
        "colab": {
          "base_uri": "https://localhost:8080/"
        },
        "outputId": "0e120e81-2557-4ebc-8b82-e44594e8b84a"
      },
      "outputs": [
        {
          "output_type": "stream",
          "name": "stdout",
          "text": [
            "Mounted at /gdrive\n"
          ]
        }
      ],
      "source": [
        "\n",
        "from google.colab import drive\n",
        "drive.mount('/gdrive',force_remount=True)\n"
      ]
    },
    {
      "cell_type": "code",
      "execution_count": 2,
      "metadata": {
        "id": "HAlPWuWzDNWy"
      },
      "outputs": [],
      "source": [
        "import numpy as np\n",
        "import matplotlib.pyplot as plt\n",
        "import torch\n",
        "from torch.utils.data import Dataset, DataLoader\n",
        "import torch.nn as nn\n",
        "import torch.nn.functional as F\n",
        "from torchvision import transforms,datasets\n",
        "\n",
        "from sklearn.model_selection import train_test_split\n",
        "from copy import deepcopy\n",
        "from IPython.display import Image"
      ]
    },
    {
      "cell_type": "code",
      "execution_count": 3,
      "metadata": {
        "id": "NhjG0LjaDQlc",
        "colab": {
          "base_uri": "https://localhost:8080/"
        },
        "outputId": "71606996-d969-4d7d-9156-b410b49fbc13"
      },
      "outputs": [
        {
          "output_type": "stream",
          "name": "stdout",
          "text": [
            "device_check: cuda\n"
          ]
        }
      ],
      "source": [
        "device=torch.device(\"cuda\" if torch.cuda.is_available() else \"cpu\")\n",
        "\n",
        "print('device_check:',device)"
      ]
    },
    {
      "cell_type": "markdown",
      "metadata": {
        "id": "9-KTU3jv4za0"
      },
      "source": [
        "# Load CIFAR 10 Dataset"
      ]
    },
    {
      "cell_type": "code",
      "execution_count": 4,
      "metadata": {
        "id": "Zt_T74ZbDVho",
        "colab": {
          "base_uri": "https://localhost:8080/",
          "height": 104,
          "referenced_widgets": [
            "707df0fe96424b489f234b204860887b",
            "b734e16bbe064a9e95e377e3764da623",
            "667e56b4b4244e73909e5ee2333d2703",
            "6b00f2122ba44d5ab8bb09802a8e5a99",
            "a649b185fab94f239bcaa529bb5dc521",
            "6087b37d35284c1bbdc4081503392bca",
            "879558be11f4445d9b7493851cb3d181",
            "432562c2dd5843a6a6f8e6fb3d354990",
            "8bea2b0e54464b07943ca20bb581459c",
            "b7c3a6c4a8e54c428597c56dee59f42a",
            "649a98a1efdd4b428a22df18bf1311a7"
          ]
        },
        "outputId": "bc55aa59-2db4-4885-b9ad-15907f40e182"
      },
      "outputs": [
        {
          "output_type": "stream",
          "name": "stdout",
          "text": [
            "Downloading https://www.cs.toronto.edu/~kriz/cifar-10-python.tar.gz to ./data/cifar-10-python.tar.gz\n"
          ]
        },
        {
          "output_type": "display_data",
          "data": {
            "application/vnd.jupyter.widget-view+json": {
              "model_id": "707df0fe96424b489f234b204860887b",
              "version_minor": 0,
              "version_major": 2
            },
            "text/plain": [
              "  0%|          | 0/170498071 [00:00<?, ?it/s]"
            ]
          },
          "metadata": {}
        },
        {
          "output_type": "stream",
          "name": "stdout",
          "text": [
            "Extracting ./data/cifar-10-python.tar.gz to ./data\n",
            "Files already downloaded and verified\n"
          ]
        }
      ],
      "source": [
        "trainset=datasets.CIFAR10(root = './data', train = True, download = True)\n",
        "testset = datasets.CIFAR10(root = './data', train = False, download = True)\n",
        "\n",
        "X_data, Y_data = trainset.data, np.array(trainset.targets)"
      ]
    },
    {
      "cell_type": "markdown",
      "metadata": {
        "id": "tCBEZ1K3i-Ns"
      },
      "source": [
        "#### sample the dataset"
      ]
    },
    {
      "cell_type": "code",
      "execution_count": 5,
      "metadata": {
        "id": "rvgseKYMDXXb",
        "colab": {
          "base_uri": "https://localhost:8080/"
        },
        "outputId": "f3af4410-473d-4dc0-ba91-69497f538013"
      },
      "outputs": [
        {
          "output_type": "stream",
          "name": "stdout",
          "text": [
            "----Train data info----\n",
            "(16000, 32, 32, 3)\n",
            "(16000,)\n",
            "----Validation data info----\n",
            "(4000, 32, 32, 3)\n",
            "(4000,)\n",
            "----Test data info----\n",
            "(4000, 32, 32, 3)\n",
            "(4000,)\n"
          ]
        }
      ],
      "source": [
        "shuffle_mask=np.arange(X_data.shape[0])\n",
        "np.random.shuffle(shuffle_mask)\n",
        "\n",
        "X_data= X_data[shuffle_mask]\n",
        "Y_data= Y_data[shuffle_mask]\n",
        "\n",
        "X_train = X_data[:20000]\n",
        "X_test = X_data[20000:24000]\n",
        "Y_train = Y_data[:20000]\n",
        "Y_test = Y_data[20000:24000]\n",
        "\n",
        "\n",
        "X_train, X_valid, Y_train, Y_valid = train_test_split(X_train, Y_train, test_size=0.2)\n",
        "\n",
        "print('----Train data info----')\n",
        "print(X_train.shape)\n",
        "print(Y_train.shape)\n",
        "\n",
        "print('----Validation data info----')\n",
        "print(X_valid.shape)\n",
        "print(Y_valid.shape)\n",
        "\n",
        "print('----Test data info----')\n",
        "print(X_test.shape)\n",
        "print(Y_test.shape)"
      ]
    },
    {
      "cell_type": "markdown",
      "metadata": {
        "id": "3TqPpjf9i-Nt"
      },
      "source": [
        "####  image print"
      ]
    },
    {
      "cell_type": "code",
      "execution_count": 6,
      "metadata": {
        "id": "IQ7EIYDHGCPh",
        "colab": {
          "base_uri": "https://localhost:8080/",
          "height": 338
        },
        "outputId": "078d7c90-d5e8-4873-9895-fb071758942e"
      },
      "outputs": [
        {
          "output_type": "display_data",
          "data": {
            "image/png": "[encoded data removed]",
            "text/plain": [
              "<Figure size 432x288 with 20 Axes>"
            ]
          },
          "metadata": {}
        }
      ],
      "source": [
        "### cifar10 이미지 출력 ###\n",
        "\n",
        "sample_X = X_train[:20]\n",
        "sample_Y = Y_train[:20]\n",
        "\n",
        "fig = plt.figure()\n",
        "fig.subplots_adjust(left=0, bottom=0, right=1, top=1, wspace=1, hspace=1)\n",
        "for i in range(20):\n",
        "    subplot = fig.add_subplot(4, 5, i+1)\n",
        "    subplot.set_xticks([])\n",
        "    subplot.set_yticks([])\n",
        "    subplot.set_title('class %d'%sample_Y[i])\n",
        "    subplot.imshow(sample_X[i], cmap=plt.cm.gray_r)\n",
        "plt.show()"
      ]
    },
    {
      "cell_type": "code",
      "execution_count": 7,
      "metadata": {
        "id": "wZ1XHH36Ka8d"
      },
      "outputs": [],
      "source": [
        "class Custom_Dataset(Dataset):\n",
        "    def __init__(self, X, y):\n",
        "        self.X=np.transpose(X/255.0,(0,3,1,2))\n",
        "        self.y=y\n",
        "\n",
        "    def __len__(self):\n",
        "        \n",
        "        result=len(self.X)\n",
        "    \n",
        "        return result\n",
        "    \n",
        "    def __getitem__(self, idx):\n",
        "        \n",
        "        result_X=self.X[idx]\n",
        "        result_y=self.y[idx]\n",
        "        return result_X,result_y"
      ]
    },
    {
      "cell_type": "markdown",
      "metadata": {
        "id": "9ugKn24g7HyY"
      },
      "source": [
        "#### [문제 01] Flatten Function(Flatten Layer)\n",
        "\n",
        "Flatten layer는 CNN의 데이터 타입을 Fully Connected Neural Network의 형태로 변경하는 layer이다.\n",
        "flatten 함수를 통 layer를 구현하시오.\n",
        "(바꾸는 방법은 다양함.) (10\n"
      ]
    },
    {
      "cell_type": "code",
      "execution_count": 8,
      "metadata": {
        "id": "gbbTpQee7HyZ"
      },
      "outputs": [],
      "source": [
        "\n",
        "def flatten(x):\n",
        "    data=x.shape[0]\n",
        "    ###################### Write Your Code Here ###################\n",
        "    flatten_x = torch.flatten(x,start_dim = 1)\n",
        "    ###############################################################\n",
        "    return flatten_x\n"
      ]
    },
    {
      "cell_type": "markdown",
      "metadata": {
        "id": "DJaslbGb7HyZ"
      },
      "source": [
        "#### [문제 02] Multi Layer Perceptron(MLP)\n",
        "전체 layer의 개수가 5개 이상 10개 이하인  Multi-layer Perceptron(MLP)를 만드시오. MLP model은 test dataset에 대해 40%     이상의 Test accuracy를 가져야 한다.\n",
        "\n",
        "\n",
        "(단 activation function은 self.activation_func을 사용해야 한다.) \n",
        "\n",
        "(** HINT: pytorch의 nn.Sequential을 찾아보고 사용해볼것.) (25점)"
      ]
    },
    {
      "cell_type": "code",
      "execution_count": 9,
      "metadata": {
        "id": "rU04cqIDi-Nw"
      },
      "outputs": [],
      "source": [
        "\n",
        "class MLP(nn.Module):\n",
        "    def __init__(self,input_size,active_func,output_size):\n",
        "        super(MLP,self).__init__()\n",
        "        self.activation_func=active_func\n",
        "        ######################## Write your Code Here ########################\n",
        "        ls = int((input_size+output_size)*(2/3))\n",
        "        self.seq= nn.Sequential(\n",
        "            \n",
        "            nn.Linear(input_size,ls),\n",
        "            \n",
        "            nn.BatchNorm1d(ls),\n",
        "            self.activation_func,\n",
        "            nn.Dropout(p=0.2),\n",
        "            \n",
        "            nn.Linear(ls,ls),\n",
        "            nn.BatchNorm1d(ls),\n",
        "            self.activation_func,\n",
        "            nn.Dropout(p=0.2),\n",
        "\n",
        "            nn.Linear(ls,ls),\n",
        "            nn.BatchNorm1d(ls),\n",
        "            self.activation_func,\n",
        "            nn.Dropout(p=0.2),\n",
        "            \n",
        "            nn.Linear(ls,ls),\n",
        "            nn.BatchNorm1d(ls),\n",
        "            self.activation_func,\n",
        "            nn.Dropout(p=0.2),\n",
        "            \n",
        "            nn.Linear(ls,ls),\n",
        "            nn.BatchNorm1d(ls),\n",
        "            self.activation_func,\n",
        "            nn.Dropout(p=0.2),\n",
        "\n",
        "            nn.Linear(ls,ls),\n",
        "            nn.BatchNorm1d(ls),\n",
        "            self.activation_func,\n",
        "            nn.Dropout(p=0.2),\n",
        "   \n",
        "            nn.Linear(ls,output_size),\n",
        "         \n",
        "        )\n",
        "\n",
        "        #######################################################################\n",
        "        \n",
        "    def forward(self,x):\n",
        "        x = flatten(x)  # flatten layer: 위에서 정의한 flatten 함수를 먼저 작성해야 한다.\n",
        "        x = self.seq(x) # 입력값이 하나인 것을 생각하고 network를 짜야한다.\n",
        "        return x\n",
        "        "
      ]
    },
    {
      "cell_type": "markdown",
      "metadata": {
        "id": "rbUUugzz7Hya"
      },
      "source": [
        "##### [문제 03] Convolutional Neural Network\n",
        "\n",
        "INPUT(32X32X3) --> CONV1(30X30X12) --> CONV2(28X28X12) --> POOL1(14X14X12) --> CONV3(12X12X24) --> CONV4(10X10X24) --> POOL2(5X5X24) --> FC --> ... -->FC(class num)를 따르는 CNN model을 만드시오.\n",
        "FC층은 2개에서 4개 사이의 층을 가지도록 구성한다.단 Test dataset에 대해 50% 이상의 Test accuracy를 가져야 한다. (30점)\n",
        "(activation function은 self.activation_func을 사용할 것.)\n"
      ]
    },
    {
      "cell_type": "code",
      "execution_count": 10,
      "metadata": {
        "id": "XHYS7eJJ7Hya"
      },
      "outputs": [],
      "source": [
        "class CNNModel(nn.Module):\n",
        "    def __init__(self,input_channel,active_func):\n",
        "        super(CNNModel, self).__init__()\n",
        "        \n",
        "        self.activation_func=active_func\n",
        "        ######################## Write your Code Here #########################\n",
        "        \n",
        "        self.layer = nn.Sequential(\n",
        "            nn.Conv2d(input_channel,12,3),\n",
        "            nn.Conv2d(12,12,3),\n",
        "            nn.MaxPool2d(2,stride=2),\n",
        "            nn.Conv2d(12,24,3),\n",
        "            nn.Conv2d(24,24,3),\n",
        "            nn.MaxPool2d(2,stride=2)\n",
        "        )\n",
        "\n",
        "        self.fc_layer = nn.Sequential(\n",
        "            nn.Linear(600,400),\n",
        "            nn.Linear(400,400),\n",
        "            nn.Linear(400,10)\n",
        "        )\n",
        "\n",
        "        \n",
        "        #######################################################################\n",
        "\n",
        "    def forward(self, output):\n",
        "        ######################## Write your Code Here #########################\n",
        "\n",
        "        output = self.layer(output)\n",
        "        output = flatten(output) \n",
        "        output = self.fc_layer(output)\n",
        "        \n",
        "        return output\n",
        "                \n",
        "        \n",
        "        #######################################################################\n",
        "\n",
        "\n"
      ]
    },
    {
      "cell_type": "code",
      "execution_count": 17,
      "metadata": {
        "id": "il6dLnCzLos3"
      },
      "outputs": [],
      "source": [
        "## train func\n",
        "def train(model, epoches, train_loader, val_loader, optimizer, criteria):\n",
        "    best_score = 0\n",
        "    best_model = None\n",
        "    batch_len = len(train_loader)\n",
        "    val_acc = []\n",
        "    for epoch in range(epoches):\n",
        "        total_loss = 0;train_acc=0.0;correct = 0\n",
        "        for i,data in enumerate(train_loader):\n",
        "            image,label=data\n",
        "            image = torch.tensor(image, device = device)\n",
        "            label = torch.tensor(label, device = device)\n",
        "            model.train() \n",
        "            optimizer.zero_grad() \n",
        "            output=model(image.float())\n",
        "            prediction=output.max(1,keepdim=True)[1]\n",
        "            loss=criteria(output,label.long())\n",
        "            correct += prediction.eq(label.view_as(prediction)).sum().item()\n",
        "            loss.backward() \n",
        "            optimizer.step()\n",
        "            train_accuracy = 100. * correct / len(train_loader.dataset)\n",
        "            \n",
        "            # loss\n",
        "            total_loss+=loss.item()             \n",
        "        \n",
        "            if i % batch_len == batch_len-1:\n",
        "                # print('{}th epoch loss:{:.6f} Train Acc:{}'.format(epoch+1,total_loss/batch_len,train_accuracy))\n",
        "\n",
        "                total_loss = 0\n",
        "\n",
        "                val_score = evaluate(model,val_loader)\n",
        "                val_acc.append(val_score)\n",
        "                if val_score>=best_score:\n",
        "                    best_score=val_score \n",
        "                    best_model=deepcopy(model)\n",
        "\n",
        "    return best_model, val_acc\n",
        "\n",
        "## evaluation func\n",
        "def evaluate(model, test_loader):\n",
        "    model.eval()\n",
        "\n",
        "    correct = 0\n",
        "    with torch.no_grad():\n",
        "        for data in test_loader:\n",
        "            image,label=data\n",
        "            image = image.to(device)\n",
        "            label = label.to(device)\n",
        "            output = model(image.float())\n",
        "            prediction = output.max(1, keepdim = True)[1]\n",
        "            correct += prediction.eq(label.view_as(prediction)).sum().item()\n",
        "    \n",
        "    test_accuracy = 100. * correct / len(test_loader.dataset)\n",
        "    \n",
        "    return test_accuracy\n"
      ]
    },
    {
      "cell_type": "code",
      "execution_count": 12,
      "metadata": {
        "id": "4X_tSp3Iy3Jg"
      },
      "outputs": [],
      "source": [
        "def choice_activation(name):\n",
        "    if name==\"sigmod\":\n",
        "        function=nn.Sigmoid()\n",
        "    elif name==\"relu\":\n",
        "        function=nn.ReLU()\n",
        "    elif name==\"tanh\":\n",
        "        function=nn.Tanh()\n",
        "    elif name==\"leakyrelu\":\n",
        "        function=nn.LeakyReLU()\n",
        "    return function"
      ]
    },
    {
      "cell_type": "markdown",
      "metadata": {
        "id": "lJuwI_Cp7Hyc"
      },
      "source": [
        "#### [문제 05] Activation Function\n",
        "\n",
        "위에서 정의한 choice_activation()을 통해 4가지 중 하나의 activation function을 선택해 active_function 변수에 저장하고, \n",
        "해당 activation function을 선택한 이유를 보고서에 서술하시오. (5점)"
      ]
    },
    {
      "cell_type": "code",
      "execution_count": 22,
      "metadata": {
        "id": "XK0Jfy9tUIP3",
        "scrolled": true,
        "colab": {
          "base_uri": "https://localhost:8080/",
          "height": 608
        },
        "outputId": "668c18eb-ed38-404f-8d34-e33e37731328"
      },
      "outputs": [
        {
          "output_type": "stream",
          "name": "stdout",
          "text": [
            "============== MLP Train Start ================\n"
          ]
        },
        {
          "output_type": "stream",
          "name": "stderr",
          "text": [
            "/usr/local/lib/python3.7/dist-packages/ipykernel_launcher.py:11: UserWarning: To copy construct from a tensor, it is recommended to use sourceTensor.clone().detach() or sourceTensor.clone().detach().requires_grad_(True), rather than torch.tensor(sourceTensor).\n",
            "  # This is added back by InteractiveShellApp.init_path()\n",
            "/usr/local/lib/python3.7/dist-packages/ipykernel_launcher.py:12: UserWarning: To copy construct from a tensor, it is recommended to use sourceTensor.clone().detach() or sourceTensor.clone().detach().requires_grad_(True), rather than torch.tensor(sourceTensor).\n",
            "  if sys.path[0] == '':\n"
          ]
        },
        {
          "output_type": "stream",
          "name": "stdout",
          "text": [
            "----------- MLP Test Result ----------------\n",
            "MLP Test Accuracy: 44.9\n",
            "============== CNN Train Start ================\n",
            "----------- CNN Test Result ----------------\n",
            "CNN Test Accuracy: 54.975\n"
          ]
        },
        {
          "output_type": "display_data",
          "data": {
            "image/png": "[encoded data removed]",
            "text/plain": [
              "<Figure size 720x432 with 1 Axes>"
            ]
          },
          "metadata": {
            "needs_background": "light"
          }
        }
      ],
      "source": [
        "# hyperparameter\n",
        "EPOCHS=20\n",
        "LEARNING_RATE=1e-3\n",
        "\n",
        "## 배치 사이즈는 사양에 맞게  변경이 가능하다.\n",
        "###################################\n",
        "BATCH_SIZE=128\n",
        "####################################\n",
        "\n",
        "train_loader = DataLoader(Custom_Dataset(X_train,Y_train), batch_size = BATCH_SIZE)\n",
        "val_loader = DataLoader(Custom_Dataset(X_valid,Y_valid), batch_size = BATCH_SIZE)\n",
        "test_loader = DataLoader(Custom_Dataset(X_test,Y_test), batch_size = BATCH_SIZE)\n",
        "\n",
        "\n",
        "\n",
        "########## Write Your Code Here #########\n",
        "active_function=choice_activation(\"leakyrelu\")\n",
        "#########################################\n",
        "criterion=nn.CrossEntropyLoss()\n",
        "\n",
        "\n",
        "input_channel=X_train.shape[3]\n",
        "input_size=X_train.shape[1]*X_train.shape[2]*X_train.shape[3]\n",
        "output_size=len(np.unique(Y_train))\n",
        "\n",
        "mlp_model=MLP(input_size,active_function,output_size)\n",
        "mlp_model.to(device)\n",
        "mlp_optimizer=torch.optim.Adam(mlp_model.parameters(),lr=LEARNING_RATE)\n",
        "criterion=nn.CrossEntropyLoss() \n",
        "\n",
        "cnn_model=CNNModel(input_channel,active_function)\n",
        "cnn_model.to(device)\n",
        "\n",
        "cnn_optimizer=torch.optim.Adam(cnn_model.parameters(),lr=LEARNING_RATE)\n",
        "\n",
        "\n",
        "# train mlp and test mlp\n",
        "\n",
        "print(\"============== MLP Train Start ================\")\n",
        "best_mlp,mlp_val_acc=train(mlp_model,EPOCHS,train_loader, val_loader,mlp_optimizer,criterion)\n",
        "mlp_acc=evaluate(best_mlp,test_loader)\n",
        "print('----------- MLP Test Result ----------------')\n",
        "print('MLP Test Accuracy:',mlp_acc)\n",
        "\n",
        "\n",
        "# train cnn and test cnn\n",
        "print(\"============== CNN Train Start ================\")\n",
        "best_cnn,cnn_val_acc=train(cnn_model,EPOCHS,train_loader, val_loader,cnn_optimizer,criterion)\n",
        "cnn_acc=evaluate(best_cnn,test_loader)\n",
        "print('----------- CNN Test Result ----------------')\n",
        "print('CNN Test Accuracy:',cnn_acc)\n",
        "\n",
        "\n",
        "### Graph Shows ####\n",
        "\n",
        "plt.rcParams[\"figure.figsize\"]=(10,6)\n",
        "plt.title('[ Validation Accuarcy ]')\n",
        "\n",
        "plt.plot(np.arange(1,len(mlp_val_acc)+1),mlp_val_acc,label='validation',color='darkblue')\n",
        "plt.plot(np.arange(1,len(cnn_val_acc)+1),cnn_val_acc,label='validation',color='darkred')\n",
        "plt.xlim([0,20])\n",
        "plt.legend(['MLP','CNN'])\n",
        "plt.xlabel('Epoch')\n",
        "plt.ylabel('Accuracy (%)')\n",
        "plt.grid(True)\n",
        "plt.show()\n"
      ]
    },
    {
      "cell_type": "code",
      "execution_count": 15,
      "metadata": {
        "id": "8xcTvX_5vLRx"
      },
      "outputs": [],
      "source": [
        ""
      ]
    },
    {
      "cell_type": "code",
      "execution_count": 15,
      "metadata": {
        "id": "vg_5i8p1vLRx"
      },
      "outputs": [],
      "source": [
        ""
      ]
    }
  ],
  "metadata": {
    "accelerator": "GPU",
    "colab": {
      "collapsed_sections": [],
      "name": "AI_Assignment04.ipynb",
      "provenance": [],
      "toc_visible": true
    },
    "kernelspec": {
      "display_name": "Python 3",
      "language": "python",
      "name": "python3"
    },
    "language_info": {
      "codemirror_mode": {
        "name": "ipython",
        "version": 3
      },
      "file_extension": ".py",
      "mimetype": "text/x-python",
      "name": "python",
      "nbconvert_exporter": "python",
      "pygments_lexer": "ipython3",
      "version": "3.8.5"
    },
    "widgets": {
      "application/vnd.jupyter.widget-state+json": {
        "707df0fe96424b489f234b204860887b": {
          "model_module": "@jupyter-widgets/controls",
          "model_name": "HBoxModel",
          "model_module_version": "1.5.0",
          "state": {
            "_view_name": "HBoxView",
            "_dom_classes": [],
            "_model_name": "HBoxModel",
            "_view_module": "@jupyter-widgets/controls",
            "_model_module_version": "1.5.0",
            "_view_count": null,
            "_view_module_version": "1.5.0",
            "box_style": "",
            "layout": "IPY_MODEL_b734e16bbe064a9e95e377e3764da623",
            "_model_module": "@jupyter-widgets/controls",
            "children": [
              "IPY_MODEL_667e56b4b4244e73909e5ee2333d2703",
              "IPY_MODEL_6b00f2122ba44d5ab8bb09802a8e5a99",
              "IPY_MODEL_a649b185fab94f239bcaa529bb5dc521"
            ]
          }
        },
        "b734e16bbe064a9e95e377e3764da623": {
          "model_module": "@jupyter-widgets/base",
          "model_name": "LayoutModel",
          "model_module_version": "1.2.0",
          "state": {
            "_view_name": "LayoutView",
            "grid_template_rows": null,
            "right": null,
            "justify_content": null,
            "_view_module": "@jupyter-widgets/base",
            "overflow": null,
            "_model_module_version": "1.2.0",
            "_view_count": null,
            "flex_flow": null,
            "width": null,
            "min_width": null,
            "border": null,
            "align_items": null,
            "bottom": null,
            "_model_module": "@jupyter-widgets/base",
            "top": null,
            "grid_column": null,
            "overflow_y": null,
            "overflow_x": null,
            "grid_auto_flow": null,
            "grid_area": null,
            "grid_template_columns": null,
            "flex": null,
            "_model_name": "LayoutModel",
            "justify_items": null,
            "grid_row": null,
            "max_height": null,
            "align_content": null,
            "visibility": null,
            "align_self": null,
            "height": null,
            "min_height": null,
            "padding": null,
            "grid_auto_rows": null,
            "grid_gap": null,
            "max_width": null,
            "order": null,
            "_view_module_version": "1.2.0",
            "grid_template_areas": null,
            "object_position": null,
            "object_fit": null,
            "grid_auto_columns": null,
            "margin": null,
            "display": null,
            "left": null
          }
        },
        "667e56b4b4244e73909e5ee2333d2703": {
          "model_module": "@jupyter-widgets/controls",
          "model_name": "HTMLModel",
          "model_module_version": "1.5.0",
          "state": {
            "_view_name": "HTMLView",
            "style": "IPY_MODEL_6087b37d35284c1bbdc4081503392bca",
            "_dom_classes": [],
            "description": "",
            "_model_name": "HTMLModel",
            "placeholder": "​",
            "_view_module": "@jupyter-widgets/controls",
            "_model_module_version": "1.5.0",
            "value": "",
            "_view_count": null,
            "_view_module_version": "1.5.0",
            "description_tooltip": null,
            "_model_module": "@jupyter-widgets/controls",
            "layout": "IPY_MODEL_879558be11f4445d9b7493851cb3d181"
          }
        },
        "6b00f2122ba44d5ab8bb09802a8e5a99": {
          "model_module": "@jupyter-widgets/controls",
          "model_name": "FloatProgressModel",
          "model_module_version": "1.5.0",
          "state": {
            "_view_name": "ProgressView",
            "style": "IPY_MODEL_432562c2dd5843a6a6f8e6fb3d354990",
            "_dom_classes": [],
            "description": "",
            "_model_name": "FloatProgressModel",
            "bar_style": "success",
            "max": 170498071,
            "_view_module": "@jupyter-widgets/controls",
            "_model_module_version": "1.5.0",
            "value": 170498071,
            "_view_count": null,
            "_view_module_version": "1.5.0",
            "orientation": "horizontal",
            "min": 0,
            "description_tooltip": null,
            "_model_module": "@jupyter-widgets/controls",
            "layout": "IPY_MODEL_8bea2b0e54464b07943ca20bb581459c"
          }
        },
        "a649b185fab94f239bcaa529bb5dc521": {
          "model_module": "@jupyter-widgets/controls",
          "model_name": "HTMLModel",
          "model_module_version": "1.5.0",
          "state": {
            "_view_name": "HTMLView",
            "style": "IPY_MODEL_b7c3a6c4a8e54c428597c56dee59f42a",
            "_dom_classes": [],
            "description": "",
            "_model_name": "HTMLModel",
            "placeholder": "​",
            "_view_module": "@jupyter-widgets/controls",
            "_model_module_version": "1.5.0",
            "value": " 170499072/? [00:03&lt;00:00, 49708262.86it/s]",
            "_view_count": null,
            "_view_module_version": "1.5.0",
            "description_tooltip": null,
            "_model_module": "@jupyter-widgets/controls",
            "layout": "IPY_MODEL_649a98a1efdd4b428a22df18bf1311a7"
          }
        },
        "6087b37d35284c1bbdc4081503392bca": {
          "model_module": "@jupyter-widgets/controls",
          "model_name": "DescriptionStyleModel",
          "model_module_version": "1.5.0",
          "state": {
            "_view_name": "StyleView",
            "_model_name": "DescriptionStyleModel",
            "description_width": "",
            "_view_module": "@jupyter-widgets/base",
            "_model_module_version": "1.5.0",
            "_view_count": null,
            "_view_module_version": "1.2.0",
            "_model_module": "@jupyter-widgets/controls"
          }
        },
        "879558be11f4445d9b7493851cb3d181": {
          "model_module": "@jupyter-widgets/base",
          "model_name": "LayoutModel",
          "model_module_version": "1.2.0",
          "state": {
            "_view_name": "LayoutView",
            "grid_template_rows": null,
            "right": null,
            "justify_content": null,
            "_view_module": "@jupyter-widgets/base",
            "overflow": null,
            "_model_module_version": "1.2.0",
            "_view_count": null,
            "flex_flow": null,
            "width": null,
            "min_width": null,
            "border": null,
            "align_items": null,
            "bottom": null,
            "_model_module": "@jupyter-widgets/base",
            "top": null,
            "grid_column": null,
            "overflow_y": null,
            "overflow_x": null,
            "grid_auto_flow": null,
            "grid_area": null,
            "grid_template_columns": null,
            "flex": null,
            "_model_name": "LayoutModel",
            "justify_items": null,
            "grid_row": null,
            "max_height": null,
            "align_content": null,
            "visibility": null,
            "align_self": null,
            "height": null,
            "min_height": null,
            "padding": null,
            "grid_auto_rows": null,
            "grid_gap": null,
            "max_width": null,
            "order": null,
            "_view_module_version": "1.2.0",
            "grid_template_areas": null,
            "object_position": null,
            "object_fit": null,
            "grid_auto_columns": null,
            "margin": null,
            "display": null,
            "left": null
          }
        },
        "432562c2dd5843a6a6f8e6fb3d354990": {
          "model_module": "@jupyter-widgets/controls",
          "model_name": "ProgressStyleModel",
          "model_module_version": "1.5.0",
          "state": {
            "_view_name": "StyleView",
            "_model_name": "ProgressStyleModel",
            "description_width": "",
            "_view_module": "@jupyter-widgets/base",
            "_model_module_version": "1.5.0",
            "_view_count": null,
            "_view_module_version": "1.2.0",
            "bar_color": null,
            "_model_module": "@jupyter-widgets/controls"
          }
        },
        "8bea2b0e54464b07943ca20bb581459c": {
          "model_module": "@jupyter-widgets/base",
          "model_name": "LayoutModel",
          "model_module_version": "1.2.0",
          "state": {
            "_view_name": "LayoutView",
            "grid_template_rows": null,
            "right": null,
            "justify_content": null,
            "_view_module": "@jupyter-widgets/base",
            "overflow": null,
            "_model_module_version": "1.2.0",
            "_view_count": null,
            "flex_flow": null,
            "width": null,
            "min_width": null,
            "border": null,
            "align_items": null,
            "bottom": null,
            "_model_module": "@jupyter-widgets/base",
            "top": null,
            "grid_column": null,
            "overflow_y": null,
            "overflow_x": null,
            "grid_auto_flow": null,
            "grid_area": null,
            "grid_template_columns": null,
            "flex": null,
            "_model_name": "LayoutModel",
            "justify_items": null,
            "grid_row": null,
            "max_height": null,
            "align_content": null,
            "visibility": null,
            "align_self": null,
            "height": null,
            "min_height": null,
            "padding": null,
            "grid_auto_rows": null,
            "grid_gap": null,
            "max_width": null,
            "order": null,
            "_view_module_version": "1.2.0",
            "grid_template_areas": null,
            "object_position": null,
            "object_fit": null,
            "grid_auto_columns": null,
            "margin": null,
            "display": null,
            "left": null
          }
        },
        "b7c3a6c4a8e54c428597c56dee59f42a": {
          "model_module": "@jupyter-widgets/controls",
          "model_name": "DescriptionStyleModel",
          "model_module_version": "1.5.0",
          "state": {
            "_view_name": "StyleView",
            "_model_name": "DescriptionStyleModel",
            "description_width": "",
            "_view_module": "@jupyter-widgets/base",
            "_model_module_version": "1.5.0",
            "_view_count": null,
            "_view_module_version": "1.2.0",
            "_model_module": "@jupyter-widgets/controls"
          }
        },
        "649a98a1efdd4b428a22df18bf1311a7": {
          "model_module": "@jupyter-widgets/base",
          "model_name": "LayoutModel",
          "model_module_version": "1.2.0",
          "state": {
            "_view_name": "LayoutView",
            "grid_template_rows": null,
            "right": null,
            "justify_content": null,
            "_view_module": "@jupyter-widgets/base",
            "overflow": null,
            "_model_module_version": "1.2.0",
            "_view_count": null,
            "flex_flow": null,
            "width": null,
            "min_width": null,
            "border": null,
            "align_items": null,
            "bottom": null,
            "_model_module": "@jupyter-widgets/base",
            "top": null,
            "grid_column": null,
            "overflow_y": null,
            "overflow_x": null,
            "grid_auto_flow": null,
            "grid_area": null,
            "grid_template_columns": null,
            "flex": null,
            "_model_name": "LayoutModel",
            "justify_items": null,
            "grid_row": null,
            "max_height": null,
            "align_content": null,
            "visibility": null,
            "align_self": null,
            "height": null,
            "min_height": null,
            "padding": null,
            "grid_auto_rows": null,
            "grid_gap": null,
            "max_width": null,
            "order": null,
            "_view_module_version": "1.2.0",
            "grid_template_areas": null,
            "object_position": null,
            "object_fit": null,
            "grid_auto_columns": null,
            "margin": null,
            "display": null,
            "left": null
          }
        }
      }
    }
  },
  "nbformat": 4,
  "nbformat_minor": 0
}