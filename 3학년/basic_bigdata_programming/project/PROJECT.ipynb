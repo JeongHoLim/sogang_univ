{
 "cells": [
  {
   "cell_type": "code",
   "execution_count": 1,
   "id": "TkfwxxjVCiGy",
   "metadata": {
    "colab": {
     "base_uri": "https://localhost:8080/"
    },
    "executionInfo": {
     "elapsed": 2632,
     "status": "ok",
     "timestamp": 1638033949389,
     "user": {
      "displayName": "임정호",
      "photoUrl": "https://lh3.googleusercontent.com/a/default-user=s64",
      "userId": "02621893062828546199"
     },
     "user_tz": -540
    },
    "id": "TkfwxxjVCiGy",
    "outputId": "756db634-6add-42a6-ba6e-24558be9df1c"
   },
   "outputs": [],
   "source": [
    "# %reset"
   ]
  },
  {
   "cell_type": "code",
   "execution_count": 2,
   "id": "12c0a22a",
   "metadata": {
    "id": "12c0a22a"
   },
   "outputs": [],
   "source": [
    "import pandas as pd\n",
    "\n",
    "import matplotlib.pyplot as plt\n",
    "import re\n",
    "import warnings\n",
    "import pprint\n",
    "warnings.filterwarnings('ignore')\n",
    "#import collections"
   ]
  },
  {
   "cell_type": "code",
   "execution_count": 3,
   "id": "a3ae789a",
   "metadata": {
    "id": "a3ae789a"
   },
   "outputs": [],
   "source": [
    "pd.set_option('display.max_rows', None)\n",
    "pd.set_option('display.max_columns', None)\n",
    "pd.set_option('display.width', None)\n",
    "pd.set_option('display.max_colwidth', -1)"
   ]
  },
  {
   "cell_type": "code",
   "execution_count": 4,
   "id": "d123aece",
   "metadata": {
    "id": "d123aece"
   },
   "outputs": [],
   "source": [
    "class Invalid_Date_Exception(Exception):\n",
    "    def __init__(self,msg):\n",
    "        self._msg = msg\n",
    "    def get_msg(self):\n",
    "        return self._msg\n",
    "    msg = property(get_msg)\n",
    "    \n",
    "        \n",
    "class Invalid_Country_Exception(Exception):\n",
    "    def __init__(self,msg):\n",
    "        self._msg = msg\n",
    "    def get_msg(self):\n",
    "        return self._msg\n",
    "    msg = property(get_msg)\n",
    "        \n",
    "class Invalid_Title_Exception(Exception):\n",
    "    def __init__(self,msg):\n",
    "        self._msg = msg\n",
    "    def get_msg(self):\n",
    "        return self._msg\n",
    "    msg = property(get_msg)\n",
    "class Invalid_N_Exception(Exception):\n",
    "    def __init__(self,msg):\n",
    "        self._msg = msg\n",
    "    def get_msg(self):\n",
    "        return self._msg\n",
    "    msg = property(get_msg)\n",
    "    \n",
    "class Invalid_Category_Exception(Exception):\n",
    "    def __init__(self,msg):\n",
    "        self._msg = msg\n",
    "    def get_msg(self):\n",
    "        return self._msg\n",
    "    msg = property(get_msg)\n"
   ]
  },
  {
   "cell_type": "code",
   "execution_count": 5,
   "id": "bb8jHYbrUl60",
   "metadata": {
    "id": "bb8jHYbrUl60"
   },
   "outputs": [],
   "source": [
    "class Init:\n",
    "    \n",
    "    p = re.compile(\"Non-English\")\n",
    "    @staticmethod\n",
    "    def init_category(category):\n",
    "        return category.split(\"(\")[0].strip()\n",
    "\n",
    "    @staticmethod\n",
    "    def init_eng(category):\n",
    "        if Init.p.search(category):\n",
    "            return False\n",
    "        else: return True\n",
    "\n",
    "class Show(Init):\n",
    "    # 클래스 변수\n",
    "\n",
    "    # title을 key로 들어가 있음\n",
    "    show_info = dict()\n",
    "\n",
    "    def __init__(self,title,season,category):\n",
    "            \n",
    "        self._title = title\n",
    "        self._season = [season]\n",
    "        self._category = Init.init_category(category)\n",
    "        self._eng = Init.init_eng(category)\n",
    "\n",
    "\n",
    "    # 같은 이름의 작품이 있는 경우 -> 해당 객체 리턴, 없는 경우 None 리턴\n",
    "    @classmethod\n",
    "    def find_title(cls,title):\n",
    "        try:\n",
    "            ret = cls.show_info[title.lower()]\n",
    "        except KeyError:\n",
    "            return None\n",
    "        else:\n",
    "            return ret\n",
    "\n",
    "    @classmethod\n",
    "    def add_season(cls,title,season,obj=None):\n",
    "        try:\n",
    "            if season not in cls.show_info[title].season:\n",
    "                cls.show_info[title].season.append(season)\n",
    "        except KeyError:\n",
    "            cls.show_info[title] = obj\n",
    "\n",
    "            \n",
    "    def get_title(self):\n",
    "        return self._title\n",
    "    title = property(get_title)\n",
    "\n",
    "    def get_season(self):\n",
    "        return self._season\n",
    "    season = property(get_season)\n",
    "\n",
    "    def get_category(self):\n",
    "        return self._category\n",
    "    category = property(get_category)\n",
    "\n",
    "    def get_eng(self):\n",
    "        return self._eng\n",
    "    eng = property(get_eng)\n",
    "\n",
    "    @classmethod\n",
    "    def add_show(cls,x,op):\n",
    "    \n",
    "        if op == 'C':\n",
    "            title,season,category = x[4],x[5],x[2].lower()\n",
    "        else:\n",
    "            title,season,category = x[3],x[4],x[1].lower()\n",
    "        \n",
    "        dup = cls.find_title(title.lower())\n",
    "        if not dup:\n",
    "            obj = Show(title,season,category)\n",
    "            cls.add_season(title.lower(),season,obj)\n",
    "    \n",
    "    @classmethod\n",
    "    def print_show(cls):\n",
    "#         print(Show.show_info)\n",
    "        for k,v in cls.show_info.items():\n",
    "            print(v.title,end=\" \")\n",
    "            if v.season[0] != 'No season title':\n",
    "                print(v.season)\n",
    "    \n",
    "        \n",
    "\n"
   ]
  },
  {
   "cell_type": "markdown",
   "id": "S_ZMnZhpBVHw",
   "metadata": {
    "id": "S_ZMnZhpBVHw"
   },
   "source": [
    "# 데이터 초기화"
   ]
  },
  {
   "cell_type": "code",
   "execution_count": 6,
   "id": "df39607c",
   "metadata": {},
   "outputs": [],
   "source": [
    "# func5()"
   ]
  },
  {
   "cell_type": "code",
   "execution_count": 7,
   "id": "mM56n-19BXno",
   "metadata": {
    "id": "mM56n-19BXno"
   },
   "outputs": [],
   "source": [
    "gdata = pd.read_csv(\"all-weeks-global.csv\")\n"
   ]
  },
  {
   "cell_type": "code",
   "execution_count": 8,
   "id": "-fSCXgRuBg1o",
   "metadata": {
    "id": "-fSCXgRuBg1o"
   },
   "outputs": [],
   "source": [
    "gdata = gdata.drop(columns=[\"cumulative_weeks_in_top_10\"])\n"
   ]
  },
  {
   "cell_type": "code",
   "execution_count": 9,
   "id": "LAc9EuJWBg1p",
   "metadata": {
    "id": "LAc9EuJWBg1p"
   },
   "outputs": [],
   "source": [
    "gdata = gdata.fillna(\"No season title\")\n"
   ]
  },
  {
   "cell_type": "code",
   "execution_count": 10,
   "id": "eOucva7SLbPT",
   "metadata": {
    "id": "eOucva7SLbPT"
   },
   "outputs": [],
   "source": [
    "gdata[\"season_title\"] = gdata[\"season_title\"].apply(lambda x : re.sub(\".*: \",\"\",x))\n",
    "# cdata[\"season_title\"]\n",
    "# season_title에 show_title과 이름이 중복되는 부분 제거\n"
   ]
  },
  {
   "cell_type": "code",
   "execution_count": 11,
   "id": "OhS9RbDDBg1p",
   "metadata": {
    "colab": {
     "base_uri": "https://localhost:8080/"
    },
    "executionInfo": {
     "elapsed": 23,
     "status": "ok",
     "timestamp": 1638033967106,
     "user": {
      "displayName": "임정호",
      "photoUrl": "https://lh3.googleusercontent.com/a/default-user=s64",
      "userId": "02621893062828546199"
     },
     "user_tz": -540
    },
    "id": "OhS9RbDDBg1p",
    "outputId": "edb50ca1-a3e6-46e3-e73b-f11aa22550ad"
   },
   "outputs": [],
   "source": [
    "gdata.rename(columns={\"weekly_rank\" : \"rank\"},inplace=True)\n",
    "# gdata\n",
    "# cdata['category']=\n",
    "tmp = gdata.apply(lambda x : Show.add_show(x,'D'), axis=1)\n"
   ]
  },
  {
   "cell_type": "code",
   "execution_count": 12,
   "id": "b0b65d82",
   "metadata": {
    "id": "b0b65d82"
   },
   "outputs": [],
   "source": [
    "cdata = pd.read_csv(\"all-weeks-countries.csv\")"
   ]
  },
  {
   "cell_type": "code",
   "execution_count": 13,
   "id": "20f0fd1d",
   "metadata": {
    "id": "20f0fd1d"
   },
   "outputs": [],
   "source": [
    "cdata = cdata.drop(columns = {\"country_iso2\",\"cumulative_weeks_in_top_10\"})"
   ]
  },
  {
   "cell_type": "code",
   "execution_count": 14,
   "id": "2aaeaedc",
   "metadata": {
    "id": "2aaeaedc"
   },
   "outputs": [],
   "source": [
    "cdata.rename(columns={\"weekly_rank\" : \"rank\"},inplace=True)\n"
   ]
  },
  {
   "cell_type": "code",
   "execution_count": 15,
   "id": "9668f96d",
   "metadata": {
    "id": "9668f96d"
   },
   "outputs": [],
   "source": [
    "cdata = cdata.fillna(\"No season title\")\n"
   ]
  },
  {
   "cell_type": "code",
   "execution_count": 16,
   "id": "7GTuaddhTDET",
   "metadata": {
    "id": "7GTuaddhTDET"
   },
   "outputs": [],
   "source": [
    "cdata[\"season_title\"] = cdata[\"season_title\"].apply(lambda x : re.sub(\".*: \",\"\",x))\n",
    "\n",
    "# cdata[\"season_title\"].apply(lambda x : print(x,len(x)))\n",
    "# season_title에 show_title과 이름이 중복되는 부분 제거\n"
   ]
  },
  {
   "cell_type": "code",
   "execution_count": 17,
   "id": "xJyBZX1xqHoP",
   "metadata": {
    "colab": {
     "base_uri": "https://localhost:8080/"
    },
    "executionInfo": {
     "elapsed": 1139,
     "status": "ok",
     "timestamp": 1638033968592,
     "user": {
      "displayName": "임정호",
      "photoUrl": "https://lh3.googleusercontent.com/a/default-user=s64",
      "userId": "02621893062828546199"
     },
     "user_tz": -540
    },
    "id": "xJyBZX1xqHoP",
    "outputId": "2c2bfd11-258b-446f-c95b-f62a8ef65b62"
   },
   "outputs": [],
   "source": [
    "\n",
    "tmp = cdata.apply(lambda x : Show.add_show(x,'C'), axis=1)\n"
   ]
  },
  {
   "cell_type": "code",
   "execution_count": 18,
   "id": "548b6935",
   "metadata": {
    "id": "548b6935"
   },
   "outputs": [],
   "source": [
    "cdata['category']=cdata['category'].apply(lambda x:x.replace(\" (English)\",\"\"))\n"
   ]
  },
  {
   "cell_type": "code",
   "execution_count": 19,
   "id": "7bc0b2af",
   "metadata": {
    "id": "7bc0b2af"
   },
   "outputs": [],
   "source": [
    "country_list = cdata.drop_duplicates('country_name')[\"country_name\"]\n",
    "country_list = country_list.reset_index().drop(columns = \"index\")\n",
    "country_list = list(country_list[\"country_name\"])\n"
   ]
  },
  {
   "cell_type": "code",
   "execution_count": 20,
   "id": "ae88af5c",
   "metadata": {
    "id": "ae88af5c"
   },
   "outputs": [],
   "source": [
    "title_list = cdata.drop_duplicates('show_title')[\"show_title\"]\n",
    "title_list = title_list.reset_index().drop(columns = \"index\")\n",
    "title_list = list(title_list[\"show_title\"])\n"
   ]
  },
  {
   "cell_type": "markdown",
   "id": "vPDfFDnQD4f6",
   "metadata": {
    "id": "vPDfFDnQD4f6"
   },
   "source": [
    "# 함수 선언"
   ]
  },
  {
   "cell_type": "code",
   "execution_count": 21,
   "id": "085269fe",
   "metadata": {
    "id": "085269fe"
   },
   "outputs": [],
   "source": [
    "# 시즌 여러개 인 경우 추가로 입력 받아야 함\n",
    "def is_invalid_title(title,found):\n",
    "\n",
    "    if title == \"\":\n",
    "        return True\n",
    "    title = title.strip()\n",
    "    find = Show.find_title(title)\n",
    "    season = \"\"\n",
    "    if find:\n",
    "        if len(find.season) > 1:\n",
    "            while True:\n",
    "                for k,v in enumerate(find.season):\n",
    "                    print(f\"{k} : {v}\")\n",
    "                try:\n",
    "                    op = int(input(\"season을 골라주세요 : \"))\n",
    "                except ValueError as E:\n",
    "                    print(\"다시 입력해주세요 \")\n",
    "                else:\n",
    "                    season = find.season[op]\n",
    "                    break\n",
    "        else:\n",
    "            season = find.season[0]\n",
    "        p = re.compile(title,re.I)  #대소문자 구분 X\n",
    "        for t in title_list:\n",
    "            if p.search(t):\n",
    "                found.append(t)\n",
    "        found.append(season)\n",
    "        return False\n",
    "    else:\n",
    "        print(\"검색하신 작품이 목록에 없습니다.\")      \n",
    "    return True           \n",
    "   \n",
    "    \n",
    "\n",
    "\n",
    "# f = []\n",
    "# is_invalid_title(\"  Squid game \",f)\n",
    "# f\n",
    "\n"
   ]
  },
  {
   "cell_type": "code",
   "execution_count": 22,
   "id": "ec7390f3",
   "metadata": {
    "id": "ec7390f3"
   },
   "outputs": [],
   "source": [
    "def show_result(title,country,start,end,res):\n",
    "    \n",
    "    # plt.rcParams['figure.figsize'] = (15,7)\n",
    "    # fig,ax1 = plt.subplots()\n",
    "\n",
    "    plt.figure(figsize=(15,7))\n",
    "    sz = res[\"week\"].size-1\n",
    "    if sz == -1:\n",
    "        print(\"입력한 기간내 순위 정보가 존재하지 않습니다.\")\n",
    "        return\n",
    "        \n",
    "    start = max(res[\"week\"].reset_index().loc[sz][\"week\"],start)\n",
    "    end = min(res[\"week\"].reset_index().loc[0][\"week\"],end)\n",
    "\n",
    "    \n",
    "    x = res[\"week\"].apply(lambda x :\"{0}-{1}\".format(*x.split(\"-\")[1:]))\n",
    "    y = res[\"rank\"]\n",
    "    \n",
    "    plt.title(f\"\\n{title} rank in {country} from {start} to {end}\\n\")\n",
    "    # plt.plot(x,y,\"bo-\")\n",
    "    plt.xlabel(\"week\")\n",
    "    plt.ylabel(\"rank\")\n",
    "    plt.ylim([0.5,10.5])\n",
    "    plt.yticks([i for i in range(1,11)])\n",
    "    plt.plot(x,y,\"bo-\")\n",
    "\n",
    "\n",
    "    plt.gca().invert_yaxis()\n",
    "    plt.gca().invert_xaxis()\n",
    "\n",
    "\n",
    "\n",
    "\n",
    "    plt.show()\n"
   ]
  },
  {
   "cell_type": "code",
   "execution_count": 23,
   "id": "8a92e79f",
   "metadata": {
    "id": "8a92e79f"
   },
   "outputs": [],
   "source": [
    "def is_invalid_date(date):\n",
    "    \n",
    "    p = re.compile(\"\\d{4}[-]\\d+[-]\\d+\")\n",
    "    m,d = map(int,date.split(\"-\")[1:])\n",
    "    if not p.match(date) or m >= 13 or m<1 or d>31 or d<1 :\n",
    "        return True\n",
    "\n",
    "    return False\n",
    "\n",
    "# is_invalid_date(\"2012-12-32\")\n",
    "# is_invalid_date(\"2012-13-12\")\n"
   ]
  },
  {
   "cell_type": "code",
   "execution_count": 24,
   "id": "301f7314",
   "metadata": {
    "id": "301f7314"
   },
   "outputs": [],
   "source": [
    "# 양쪽 공백만 수정 대소문자 추가 할지 말지 고민 중\n",
    "def is_invalid_country(country):\n",
    "    \n",
    "    countries = \" \".join(country_list)\n",
    "    for c in country.split(\",\"):\n",
    "        p = re.compile(c.strip())\n",
    "        if not p.search(countries):\n",
    "            print(\"검색하신 나라가 Netflix 이용국이 아닙니다.\")\n",
    "            return True\n",
    "\n",
    "    return False\n",
    "# is_invalid_country(\"     South Korea    ,    Japan \")"
   ]
  },
  {
   "cell_type": "code",
   "execution_count": 25,
   "id": "50c1210b",
   "metadata": {
    "id": "50c1210b"
   },
   "outputs": [],
   "source": [
    "def is_invalid_N(N):\n",
    "    N = int(N)\n",
    "    return not(N>=1 and N<=10)\n"
   ]
  },
  {
   "cell_type": "code",
   "execution_count": 26,
   "id": "cfb9d3aa",
   "metadata": {
    "id": "cfb9d3aa"
   },
   "outputs": [],
   "source": [
    "def is_invalid_category(category):\n",
    "    category = category.lower()\n",
    "    if category == \"tv\" or category == \"films\":\n",
    "        return False\n",
    "    return True\n",
    "\n",
    "# is_invalid_category(\"Tv\")"
   ]
  },
  {
   "cell_type": "code",
   "execution_count": 27,
   "id": "943c7e59",
   "metadata": {
    "id": "943c7e59"
   },
   "outputs": [],
   "source": [
    "def get_input(query):\n",
    "    \n",
    "    ret = []\n",
    "    country = category = title = \"\"\n",
    "    print(\"------------------------------------------------------------\")\n",
    "    if query ==1 or query == 2: \n",
    "        country = input(\"검색한 작품의 순위가 궁금한 나라를 입력해주세요 ex) South Korea, Japan : \")\n",
    "    start = input(\"검색할 기간의 처음 날짜를 입력해주세요 ex) YYYY-MM-DD : \")\n",
    "    end = input(\"검색할 기간의 마지막 날짜를 입력해주세요 ex) YYYY-MM-DD : \")\n",
    "    if query == 1:\n",
    "        N = input(\"몇 위까지 검색할지 입력해주세요(1~10) : \")\n",
    "        category = input(\"TV or Films : \")\n",
    "    elif query == 2 or query == 3:\n",
    "        title = input(\"검색할 작품 이름을 입력하세요 : \")\n",
    "    print(\"------------------------------------------------------------\")\n",
    "\n",
    "    found = []\n",
    "    if is_invalid_date(start) or is_invalid_date(end):\n",
    "        raise Invalid_Date_Exception(\"날짜는 YYYY-MM-DD 형식으로 입력해주세요\")\n",
    "    elif len(country)>0 and is_invalid_country(country):\n",
    "        raise Invalid_Country_Exception(\"나라 이름은 영어로 입력해주세요\")\n",
    "    elif query != 1 and is_invalid_title(title,found):\n",
    "        raise Invalid_Title_Exception(\"검색할 작품은 반드시 입력해주세요\")\n",
    "    elif query == 1 and is_invalid_N(N):\n",
    "        raise Invalid_N_Exception(\"1과 10사이의 정수를 입력해주세요\")\n",
    "    elif query == 1 and is_invalid_category(category):\n",
    "        raise Invalid_Category_Exception(\"TV 혹은 Films를 입력해주세요\")\n",
    "    else:\n",
    "        if query != 3:\n",
    "            if len(country) == 0: country = country_list\n",
    "            else: country = country.split(\", \")\n",
    "            ret.append(country)\n",
    "        ret.extend([start,end])\n",
    "        if query == 1:\n",
    "#             N = int(N)\n",
    "            ret.extend([N,category])\n",
    "        else:\n",
    "            title,season = found\n",
    "            ret.extend([title,season])\n",
    "        return ret"
   ]
  },
  {
   "cell_type": "markdown",
   "id": "08fe2e14",
   "metadata": {
    "id": "08fe2e14"
   },
   "source": [
    "# 1. 특정 기간 동안 나라별 top-N (TV, Film 구분)"
   ]
  },
  {
   "cell_type": "code",
   "execution_count": 28,
   "id": "77053765",
   "metadata": {
    "id": "77053765"
   },
   "outputs": [],
   "source": [
    "def query1(start,end,country,N,category):\n",
    "    print()\n",
    "    for c in country:\n",
    "        res1 = cdata.loc[(cdata[\"rank\"] <= N ) & (cdata[\"country_name\"] == c) &(cdata[\"week\"]>=start) & (cdata[\"week\"]<=end) & (cdata[\"category\"]==category)]\n",
    "        ret = pd.DataFrame(res1,columns=[\"week\",\"rank\",\"show_title\",\"season_title\"])\n",
    "        print(f\"In {c}\")\n",
    "        for k,v in enumerate(ret.values.tolist()):\n",
    "            if k % N == 0:\n",
    "                print(v[0])\n",
    "#             season 정보가 있는 경우 출력\n",
    "            to = 4 if v[3] != \"No season title\" else 3\n",
    "            pprint.pprint(v[1:to])\n",
    "        print()"
   ]
  },
  {
   "cell_type": "code",
   "execution_count": 29,
   "id": "a5f1d226",
   "metadata": {
    "id": "a5f1d226"
   },
   "outputs": [],
   "source": [
    "def func1():\n",
    "    print(\"'21.07.04 ~ '21.11.14 사이의 순위 정보를 보여줍니다.\")\n",
    "\n",
    "    while True:\n",
    "        try:\n",
    "            country,start,end,N,category= get_input(1)\n",
    "        except Invalid_Date_Exception as e:\n",
    "            print(e.msg)\n",
    "        except Invalid_Country_Exception as e:\n",
    "            print(e.msg)\n",
    "        except Exception as e:\n",
    "            print(\"다시 입력해주세요\",e.args)\n",
    "        else:\n",
    "            query1(start,end,country,int(N),category)\n",
    "            break\n",
    "            \n",
    "\n",
    "# func1()"
   ]
  },
  {
   "cell_type": "markdown",
   "id": "f7645fe5",
   "metadata": {
    "id": "f7645fe5"
   },
   "source": [
    "# 2. 특정 기간 동안 특정 작품의 나라별 순위\n"
   ]
  },
  {
   "cell_type": "code",
   "execution_count": 30,
   "id": "dab75948",
   "metadata": {
    "id": "dab75948"
   },
   "outputs": [],
   "source": [
    "def query2(title,season,start,end ,country=country_list):\n",
    "    res2 = cdata.loc[(cdata[\"week\"]>=start) & (cdata[\"week\"]<=end) & (cdata[\"show_title\"]==title) & (cdata[\"season_title\"] == season)]    \n",
    "    for c in country:\n",
    "        tmp2 = res2.loc[res2[\"country_name\"] == c]\n",
    "        ans2 = pd.DataFrame(tmp2,columns = [\"week\",\"rank\"])\n",
    "        show_result(title,c,start,end,ans2)\n",
    "        if len(ans2[\"rank\"]) != 0: print(f\"{c}에서 {start} ~ {end}동안 {title} 평균 순위 : {sum(ans2['rank'])/len(ans2['rank']):.2f}\")\n"
   ]
  },
  {
   "cell_type": "code",
   "execution_count": 31,
   "id": "5c45b958",
   "metadata": {
    "id": "5c45b958"
   },
   "outputs": [],
   "source": [
    "def func2():\n",
    "    print(\"'21.07.04 ~ '21.11.14 사이의 순위 정보를 보여줍니다.\")\n",
    "    print(\"해당 기간동안 순위가 10보다 작은 경우만 보여줍니다.\")\n",
    "    while True:\n",
    "        try:\n",
    "            country,start,end,title,season = get_input(2)\n",
    "        except Invalid_Date_Exception as e:\n",
    "            print(e.msg)\n",
    "        except Invalid_Country_Exception as e:\n",
    "            print(e.msg)\n",
    "        except Invalid_Title_Exception as e:\n",
    "            print(e.msg)\n",
    "        except Exception as e:\n",
    "            print(\"다시 입력해주세요\")\n",
    "        else:\n",
    "            query2(title,season,start,end,country)\n",
    "            break\n",
    "            \n",
    "        "
   ]
  },
  {
   "cell_type": "markdown",
   "id": "00d23099",
   "metadata": {
    "id": "00d23099"
   },
   "source": [
    "# 3. 특정 기간 동안 특정 작품의 전세계 순위"
   ]
  },
  {
   "cell_type": "code",
   "execution_count": 32,
   "id": "YsbwuQ_JQi5y",
   "metadata": {
    "id": "YsbwuQ_JQi5y"
   },
   "outputs": [],
   "source": [
    "def show_views(start,end,title,info):\n",
    "    \n",
    "    \n",
    "    plt.figure(figsize=(15,7))\n",
    "    sz = info[\"week\"].size-1\n",
    "    if sz == -1:\n",
    "        print(\"입력한 기간내 순위 정보가 존재하지 않습니다.\")\n",
    "        return\n",
    "        \n",
    "    start = max(info[\"week\"].reset_index().loc[sz][\"week\"],start)\n",
    "    end = min(info[\"week\"].reset_index().loc[0][\"week\"],end)\n",
    "\n",
    "    plt.title(f\"\\n{title} from {start} to {end}\\n\")\n",
    "    plt.xlabel(\"week\")\n",
    "    plt.ylabel(\"weekly_hours_viewed\")\n",
    "    \n",
    "    plt.plot(info[\"week\"].apply(lambda x :\"{0}-{1}\".format(*x.split(\"-\")[1:])),info[\"weekly_hours_viewed\"],\"-s\",color = 'g',markersize=7,linewidth=5,alpha=0.7)\n",
    "    plt.bar(info[\"week\"].apply(lambda x :\"{0}-{1}\".format(*x.split(\"-\")[1:])),info[\"weekly_hours_viewed\"])\n",
    "    plt.gca().invert_xaxis()\n",
    "    plt.show()\n"
   ]
  },
  {
   "cell_type": "code",
   "execution_count": 33,
   "id": "0d79464c",
   "metadata": {},
   "outputs": [],
   "source": [
    "# cdata[\"week\"].apply(lambda x :\"{0}-{1}\".format(x.split(\"-\")[1:]))\n",
    "# s = \"2021-07-12\"\n",
    "# # lambda x :\"{0}-{1}\".format(x.split(\"-\")[1:])\n",
    "# t = s.split(\"-\")\n",
    "# print(\"{0} {1} {2}\".format(*t))\n"
   ]
  },
  {
   "cell_type": "code",
   "execution_count": 34,
   "id": "740f2072",
   "metadata": {
    "colab": {
     "base_uri": "https://localhost:8080/",
     "height": 958
    },
    "executionInfo": {
     "elapsed": 1014,
     "status": "ok",
     "timestamp": 1638038038255,
     "user": {
      "displayName": "임정호",
      "photoUrl": "https://lh3.googleusercontent.com/a/default-user=s64",
      "userId": "02621893062828546199"
     },
     "user_tz": -540
    },
    "id": "740f2072",
    "outputId": "70aa2765-3031-433d-829c-5ff5da05535b"
   },
   "outputs": [],
   "source": [
    "def query3(start,end,title,season):\n",
    "    res = gdata.loc[(gdata[\"week\"]>=start) & (gdata[\"week\"]<=end) & (gdata[\"show_title\"]==title) & (gdata[\"season_title\"]==season)]    \n",
    "    ans = pd.DataFrame(res,columns = [\"week\",\"rank\"])\n",
    "    show_result(title,\"world\",start,end,ans)\n",
    "    view_info = pd.DataFrame(res,columns=[\"week\",\"weekly_hours_viewed\"])\n",
    "    show_views(start,end,title,view_info)\n",
    "\n",
    "# query3(\"2021-10-12\",\"2021-11-14\",\"Squid Game\",\"Season 1\")"
   ]
  },
  {
   "cell_type": "code",
   "execution_count": 35,
   "id": "a2047ac4",
   "metadata": {
    "id": "a2047ac4"
   },
   "outputs": [],
   "source": [
    "def func3():\n",
    "    print(\"'21.07.04 ~ '21.11.14 사이의 순위 정보를 보여줍니다.\")\n",
    "    print(\"해당 기간동안 순위가 10보다 작은 경우만 보여줍니다.\")\n",
    "    while True:\n",
    "        try:\n",
    "            start,end,title,season = get_input(3)\n",
    "        except Invalid_Date_Exception as e:\n",
    "            print(e.msg)\n",
    "        except Invalid_Title_Exception as e:\n",
    "            print(e.msg)\n",
    "        except Exception as e:\n",
    "            print(\"다시 입력해주세요\",e.args)\n",
    "        else:\n",
    "            query3(start,end,title,season)\n",
    "            break\n",
    "            \n",
    "\n",
    "# func3()"
   ]
  },
  {
   "cell_type": "code",
   "execution_count": 36,
   "id": "78793073",
   "metadata": {},
   "outputs": [],
   "source": [
    "def func4():\n",
    "    print(f\"\\n{len(country_list)}개국의 나라가 Neflix를 이용중입니다.\\n\")\n",
    "\n",
    "    pp = pprint.PrettyPrinter(width = 95,compact=True)\n",
    "    pp.pprint(country_list)\n",
    "\n",
    "# func4()"
   ]
  },
  {
   "cell_type": "code",
   "execution_count": 37,
   "id": "3e39b098",
   "metadata": {},
   "outputs": [],
   "source": [
    "def func5():\n",
    "    Show.print_show()\n",
    "# func5()"
   ]
  },
  {
   "cell_type": "code",
   "execution_count": 38,
   "id": "18be1ded",
   "metadata": {
    "id": "18be1ded"
   },
   "outputs": [],
   "source": [
    "def seperate(func):\n",
    "    def new_func():\n",
    "        print(\"-\"*43)\n",
    "        func()\n",
    "        print(\"-\"*43)\n",
    "    return new_func\n",
    "\n",
    "@seperate\n",
    "def display():\n",
    "    \n",
    "\n",
    "    print(\"# 1 : 특정 기간 동안 나라별 top-N           \")\n",
    "    print(\"# 2 : 특정 기간 동안 특정 작품의 나라별 순위 \")\n",
    "    print(\"# 3 : 특정 기간 동안 특정 작품의 전세계 순위 \")\n",
    "    print(\"# 4 : Netflix 이용국 출력 \")\n",
    "    print(\"# 5 : 검색 가능한 Neflix 작품 리스트 출력 \")\n",
    "    print(\"# 0 : 종료 \")\n",
    "    \n",
    "    \n",
    "def choose_and_call():\n",
    "    op = int(input(\"원하는 기능을 입력하세요: \"))\n",
    "    if op == 0:\n",
    "        print(\"프로그램 종료합니다.\")             \n",
    "        return False\n",
    "    if op== 1:\n",
    "        func1()\n",
    "    elif op == 2:\n",
    "        func2()\n",
    "    elif op == 3:\n",
    "        func3()\n",
    "    elif op == 4:\n",
    "        func4()\n",
    "    elif op == 5:\n",
    "        func5()\n",
    "    else:\n",
    "        print(\"Not yet implemented\")\n",
    "    return True\n",
    "\n",
    "# display()"
   ]
  },
  {
   "cell_type": "markdown",
   "id": "GTaTI6sIb6k4",
   "metadata": {
    "id": "GTaTI6sIb6k4"
   },
   "source": [
    "# Main"
   ]
  },
  {
   "cell_type": "code",
   "execution_count": 40,
   "id": "9333f506",
   "metadata": {
    "colab": {
     "base_uri": "https://localhost:8080/",
     "height": 931
    },
    "executionInfo": {
     "elapsed": 38233,
     "status": "ok",
     "timestamp": 1638038223728,
     "user": {
      "displayName": "임정호",
      "photoUrl": "https://lh3.googleusercontent.com/a/default-user=s64",
      "userId": "02621893062828546199"
     },
     "user_tz": -540
    },
    "id": "92fe3dba",
    "outputId": "9aa0bbfc-52e1-424e-8f61-cf9422b4d064"
   },
   "outputs": [
    {
     "name": "stdout",
     "output_type": "stream",
     "text": [
      "-------------------------------------------\n",
      "# 1 : 특정 기간 동안 나라별 top-N           \n",
      "# 2 : 특정 기간 동안 특정 작품의 나라별 순위 \n",
      "# 3 : 특정 기간 동안 특정 작품의 전세계 순위 \n",
      "# 4 : Netflix 이용국 출력 \n",
      "# 5 : 검색 가능한 Neflix 작품 리스트 출력 \n",
      "# 0 : 종료 \n",
      "-------------------------------------------\n",
      "원하는 기능을 입력하세요: 1\n",
      "'21.07.04 ~ '21.11.14 사이의 순위 정보를 보여줍니다.\n",
      "------------------------------------------------------------\n",
      "검색한 작품의 순위가 궁금한 나라를 입력해주세요 ex) South Korea, Japan : South Korea\n",
      "검색할 기간의 처음 날짜를 입력해주세요 ex) YYYY-MM-DD : 2021-10-01\n",
      "검색할 기간의 마지막 날짜를 입력해주세요 ex) YYYY-MM-DD : 2021-11-01\n",
      "몇 위까지 검색할지 입력해주세요(1~10) : 3\n",
      "TV or Films : TV\n",
      "------------------------------------------------------------\n",
      "\n",
      "In South Korea\n",
      "2021-10-31\n",
      "[1, 'My Name', 'Season 1']\n",
      "[2, 'Squid Game', 'Season 1']\n",
      "[3, 'Hometown Cha-Cha-Cha', 'Season 1']\n",
      "2021-10-24\n",
      "[1, 'My Name', 'Season 1']\n",
      "[2, 'Hometown Cha-Cha-Cha', 'Season 1']\n",
      "[3, 'Squid Game', 'Season 1']\n",
      "2021-10-17\n",
      "[1, 'Hometown Cha-Cha-Cha', 'Season 1']\n",
      "[2, 'My Name', 'Season 1']\n",
      "[3, 'Squid Game', 'Season 1']\n",
      "2021-10-10\n",
      "[1, 'Squid Game', 'Season 1']\n",
      "[2, 'Hometown Cha-Cha-Cha', 'Season 1']\n",
      "[3, 'D.P.', 'Season 1']\n",
      "2021-10-03\n",
      "[1, 'Squid Game', 'Season 1']\n",
      "[2, 'Hometown Cha-Cha-Cha', 'Season 1']\n",
      "[3, 'D.P.', 'Season 1']\n",
      "\n",
      "-------------------------------------------\n",
      "# 1 : 특정 기간 동안 나라별 top-N           \n",
      "# 2 : 특정 기간 동안 특정 작품의 나라별 순위 \n",
      "# 3 : 특정 기간 동안 특정 작품의 전세계 순위 \n",
      "# 4 : Netflix 이용국 출력 \n",
      "# 5 : 검색 가능한 Neflix 작품 리스트 출력 \n",
      "# 0 : 종료 \n",
      "-------------------------------------------\n",
      "원하는 기능을 입력하세요: 2\n",
      "'21.07.04 ~ '21.11.14 사이의 순위 정보를 보여줍니다.\n",
      "해당 기간동안 순위가 10보다 작은 경우만 보여줍니다.\n",
      "------------------------------------------------------------\n",
      "검색한 작품의 순위가 궁금한 나라를 입력해주세요 ex) South Korea, Japan : South Korea\n",
      "검색할 기간의 처음 날짜를 입력해주세요 ex) YYYY-MM-DD : 2021-10-01\n",
      "검색할 기간의 마지막 날짜를 입력해주세요 ex) YYYY-MM-DD : 2021-11-01\n",
      "검색할 작품 이름을 입력하세요 : Squid Game\n",
      "------------------------------------------------------------\n"
     ]
    },
    {
     "data": {
      "image/png": "[encoded data removed]",
      "text/plain": [
       "<Figure size 1080x504 with 1 Axes>"
      ]
     },
     "metadata": {
      "needs_background": "light"
     },
     "output_type": "display_data"
    },
    {
     "name": "stdout",
     "output_type": "stream",
     "text": [
      "South Korea에서 2021-10-01 ~ 2021-11-01동안 Squid Game 평균 순위 : 2.00\n",
      "-------------------------------------------\n",
      "# 1 : 특정 기간 동안 나라별 top-N           \n",
      "# 2 : 특정 기간 동안 특정 작품의 나라별 순위 \n",
      "# 3 : 특정 기간 동안 특정 작품의 전세계 순위 \n",
      "# 4 : Netflix 이용국 출력 \n",
      "# 5 : 검색 가능한 Neflix 작품 리스트 출력 \n",
      "# 0 : 종료 \n",
      "-------------------------------------------\n",
      "원하는 기능을 입력하세요: 3\n",
      "'21.07.04 ~ '21.11.14 사이의 순위 정보를 보여줍니다.\n",
      "해당 기간동안 순위가 10보다 작은 경우만 보여줍니다.\n",
      "------------------------------------------------------------\n",
      "검색할 기간의 처음 날짜를 입력해주세요 ex) YYYY-MM-DD : 2021-10-01\n",
      "검색할 기간의 마지막 날짜를 입력해주세요 ex) YYYY-MM-DD : 2021-11-01\n",
      "검색할 작품 이름을 입력하세요 : Squid Game\n",
      "------------------------------------------------------------\n"
     ]
    },
    {
     "data": {
      "image/png": "[encoded data removed]",
      "text/plain": [
       "<Figure size 1080x504 with 1 Axes>"
      ]
     },
     "metadata": {
      "needs_background": "light"
     },
     "output_type": "display_data"
    },
    {
     "data": {
      "image/png": "[encoded data removed]",
      "text/plain": [
       "<Figure size 1080x504 with 1 Axes>"
      ]
     },
     "metadata": {
      "needs_background": "light"
     },
     "output_type": "display_data"
    },
    {
     "name": "stdout",
     "output_type": "stream",
     "text": [
      "-------------------------------------------\n",
      "# 1 : 특정 기간 동안 나라별 top-N           \n",
      "# 2 : 특정 기간 동안 특정 작품의 나라별 순위 \n",
      "# 3 : 특정 기간 동안 특정 작품의 전세계 순위 \n",
      "# 4 : Netflix 이용국 출력 \n",
      "# 5 : 검색 가능한 Neflix 작품 리스트 출력 \n",
      "# 0 : 종료 \n",
      "-------------------------------------------\n",
      "원하는 기능을 입력하세요: 4\n",
      "\n",
      "94개국의 나라가 Neflix를 이용중입니다.\n",
      "\n",
      "['Argentina', 'Australia', 'Austria', 'Bahamas', 'Bahrain', 'Bangladesh', 'Belgium', 'Bolivia',\n",
      " 'Brazil', 'Bulgaria', 'Canada', 'Chile', 'Colombia', 'Costa Rica', 'Croatia', 'Cyprus',\n",
      " 'Czech Republic', 'Denmark', 'Dominican Republic', 'Ecuador', 'Egypt', 'El Salvador',\n",
      " 'Estonia', 'Finland', 'France', 'Germany', 'Greece', 'Guadeloupe', 'Guatemala', 'Honduras',\n",
      " 'Hong Kong', 'Hungary', 'Iceland', 'India', 'Indonesia', 'Ireland', 'Israel', 'Italy',\n",
      " 'Jamaica', 'Japan', 'Jordan', 'Kenya', 'Kuwait', 'Latvia', 'Lebanon', 'Lithuania',\n",
      " 'Luxembourg', 'Malaysia', 'Maldives', 'Malta', 'Martinique', 'Mauritius', 'Mexico', 'Morocco',\n",
      " 'Netherlands', 'New Caledonia', 'New Zealand', 'Nicaragua', 'Nigeria', 'Norway', 'Oman',\n",
      " 'Pakistan', 'Panama', 'Paraguay', 'Peru', 'Philippines', 'Poland', 'Portugal', 'Qatar',\n",
      " 'Romania', 'Russia', 'Réunion', 'Saudi Arabia', 'Serbia', 'Singapore', 'Slovakia', 'Slovenia',\n",
      " 'South Africa', 'South Korea', 'Spain', 'Sri Lanka', 'Sweden', 'Switzerland', 'Taiwan',\n",
      " 'Thailand', 'Trinidad and Tobago', 'Turkey', 'Ukraine', 'United Arab Emirates',\n",
      " 'United Kingdom', 'United States', 'Uruguay', 'Venezuela', 'Vietnam']\n",
      "-------------------------------------------\n",
      "# 1 : 특정 기간 동안 나라별 top-N           \n",
      "# 2 : 특정 기간 동안 특정 작품의 나라별 순위 \n",
      "# 3 : 특정 기간 동안 특정 작품의 전세계 순위 \n",
      "# 4 : Netflix 이용국 출력 \n",
      "# 5 : 검색 가능한 Neflix 작품 리스트 출력 \n",
      "# 0 : 종료 \n",
      "-------------------------------------------\n",
      "원하는 기능을 입력하세요: 5\n",
      "Red Notice Love Hard The Harder They Fall Army of Thieves Father Christmas Is Back 211 Army of the Dead Passing Transformers: The Last Knight Jumanji: The Next Level Yara 7 Prisoners The Claus Family Meenakshi Sundareshwar The Forgotten Battle Stuck Together Lords of Scam Fierce Der Fall Collini Doctor (Tamil) Narcos: Mexico ['Season 3']\n",
      "Arcane ['Season 1']\n",
      "You ['Season 3']\n",
      "Maid ['Limited Series']\n",
      "Big Mouth ['Season 5']\n",
      "Dynasty ['Season 4']\n",
      "Locke & Key ['Season 2']\n",
      "Squid Game ['Season 1']\n",
      "The King's Affection ['Season 1']\n",
      "Hometown Cha-Cha-Cha ['Season 1']\n",
      "Carinha de Anjo ['Season 1']\n",
      "My Name ['Season 1']\n",
      "Where is Marta? ['Limited Series']\n",
      "The Five Juanas ['Season 1']\n",
      "The Club ['Part 1']\n",
      "Yo soy Betty, la fea ['Season 1']\n",
      "Demon Slayer: Kimetsu no Yaiba ['Tanjiro Kamado, Unwavering Resolve Arc']\n",
      "21 Jump Street Hypnotic The Girl in the Spider's Web Amina Just Go With It Nobody Sleeps in the Woods Tonight 2 Monk Comes Down the Mountain The Trip Maya and the Three ['Limited Series']\n",
      "Sintonia ['Season 2']\n",
      "Luis Miguel - The Series ['Season 3']\n",
      "Night Teeth Final Score King Arthur: Legend of the Sword Only Mine Bloodshot A Dog's Journey Venom In for a Murder Nobody Sleeps in the Woods Tonight Friendzone The Four of Us Budapest Grudge Inside Job ['Part 1']\n",
      "CoComelon ['Season 4']\n",
      "Love Is Blind: Brazil ['Season 1']\n",
      "The Chestnut Man ['Season 1']\n",
      "What Happens in Vegas My Little Pony: A New Generation Unfaithful Going in Style The Guilty Street Kings Hotel Transylvania 3: Summer Vacation My Brother, My Sister Confessions of an Invisible Girl Beauty and the Beast Sex Education ['Season 3']\n",
      "Another Life ['Season 2']\n",
      "Alice in Borderland ['Season 1']\n",
      "Security There's Someone Inside Your House Pokémon the Movie: Secrets of the Jungle Redemption Titanic Knight and Day Fever Dream Tudo por um Pop Star Violet Evergarden the Movie Shameless (U.S.) ['Season 11']\n",
      "Midnight Mass ['Limited Series']\n",
      "A Tale Dark & Grimm ['Season 1']\n",
      "On My Block ['Season 4']\n",
      "The Baby-Sitters Club ['Season 2']\n",
      "Grey's Anatomy ['Season 17']\n",
      "Nevertheless, ['Season 1']\n",
      "House of Secrets: The Burari Deaths ['Limited Series']\n",
      "Ride Along 2 Heat Mr. & Mrs. Smith The Seven Deadly Sins: Cursed by Light Sounds Like Love Forever Rich Thalaivii Luccas Neto em: O Mapa do Tesouro 2 PAW Patrol ['Season 6']\n",
      "Lucifer ['Season 6']\n",
      "Dave Chappelle: The Closer Scaredy Cats ['Season 1']\n",
      "Baki Hanma ['Season 1']\n",
      "Ganglands ['Season 1']\n",
      "Money Heist ['Part 5']\n",
      "The Starling No One Gets Out Alive Britney Vs Spears Intrusion Grown Ups Kate Man on Fire Vivo The Father Who Moves Mountains Je Suis Karl The Stronghold Freaks – You're One of Us Blood & Water ['Season 2']\n",
      "Clickbait ['Limited Series']\n",
      "The Seven Deadly Sins [\"Dragon's Judgement\"]\n",
      "Love 101 ['Season 2']\n",
      "Schumacher Nightbooks Safe House The Marksman Prey Forgotten We'll Be Ankahi Kahaniya Blood Red Sky Pinkfong & Baby Shark's Space Adventure Xtreme Rurouni Kenshin: The Beginning The Circle ['Season 3']\n",
      "Monsters Inside: The 24 Faces of Billy Milligan ['Limited Series']\n",
      "Good Girls ['Season 4']\n",
      "Jaguar ['Season 1']\n",
      "Newly Rich, Newly Poor ['Season 1']\n",
      "The Equalizer 2 Firedrake the Silver Dragon Afterlife of the Party First Kill JJ+E O Candidato Honesto 2 Ilhados Love of My Loves Kung Fu Hustle The Women and the Murderer Amores perros Turning Point: 9/11 and the War on Terror ['Season 1']\n",
      "Sharkdog ['Season 1']\n",
      "Hospital Playlist ['Season 2']\n",
      "Carrossel Worth He's All That SAS: Rise of the Black Swan In Time Noah Sweet Girl Monte Carlo Invasion The Secret Diary of an Exchange Student Out of my league Lassie Come Home The 100 ['Season 7']\n",
      "Octonauts: Above & Beyond ['Season 1']\n",
      "Dive Club ['Season 1']\n",
      "Manifest ['Season 3']\n",
      "Into the Night ['Season 2']\n",
      "Hotel Del Luna ['Season 1']\n",
      "The Loud House Movie The Secret Life of Pets Green Lantern Flu Black Island Thimmarusu I Don't Know Whether to Slit My Wrists or Leave Them Long Outer Banks ['Season 2']\n",
      "D.P. ['Season 1']\n",
      "The Snitch Cartel: Origins ['Season 1']\n",
      "The Old Ways The Witcher: Nightmare of the Wolf The Kissing Booth 3 Tomb Raider The Last Mercenary El infierno Mimi Bartkowiak Shiny_Flakes: The Teenage Drug Lord The Chair ['Season 1']\n",
      "For Life ['Season 1']\n",
      "All American ['Season 3']\n",
      "Hit & Run ['Season 1']\n",
      "AlRawabi School for Girls ['Limited Series']\n",
      "Valeria ['Season 2']\n",
      "Open Your Eyes ['Season 1']\n",
      "The Cook of Castamar ['Season 1']\n",
      "Beckett Alvin and the Chipmunks: Chipwrecked The Girl Next Door Resort to Love Sputnik Bake Squad ['Season 1']\n",
      "Gabby's Dollhouse ['Season 2']\n",
      "Brand New Cherry Flavor ['Limited Series']\n",
      "The Good Doctor ['Season 1']\n",
      "Gone for Good ['Limited Series']\n",
      "Control Z ['Season 2']\n",
      "Aftermath The Kissing Booth The Kissing Booth 2 Dead Man Down Untold: Malice at the Palace The Swarm Rurouni Kenshin: The Final Navarasa ['Volume 1']\n",
      "Kingdom: Ashin of the North Cocaine Cowboys: The Kings of Miami ['Limited Series']\n",
      "Virgin River ['Season 3']\n",
      "Sex/Life ['Season 1']\n",
      "SHAMAN KING ['Season 1']\n",
      "The Vault The Last Letter From Your Lover Wish Dragon World Trade Center The 2nd Top Secret UFO Projects: Declassified ['Season 1']\n",
      "Car Masters: Rust to Riches ['Season 3']\n",
      "Hunter X Hunter (2011) ['Season 5']\n",
      "How to Sell Drugs Online (Fast) ['Season 3']\n",
      "Too Hot to Handle: Brazil ['Season 1']\n",
      "Trollhunters: Rise of the Titans Fear Street Part 1: 1994 Fear Street Part 3: 1666 Fear Street Part 2: 1978 Twilight The Twilight Saga: Breaking Dawn: Part 2 The Twilight Saga: New Moon Chernobyl 1986 A Perfect Fit Major Grom: Plague Doctor Words Bubble Up Like Soda Pop Never Have I Ever ['Season 2']\n",
      "Love Is Blind ['Season 1']\n",
      "The Walking Dead ['Season 10']\n",
      "Sky Rojo ['Season 2']\n",
      "Chiquititas Elite ['Season 4']\n",
      "The Twilight Saga: Eclipse The Twilight Saga: Breaking Dawn: Part 1 The Guide to the Perfect Family A Classic Horror Story Deep Tô Ryca Haseen Dillruba Atypical ['Season 4']\n",
      "Heist ['Season 1']\n",
      "The War Next-door ['Season 1']\n",
      "Lupin ['Part 2']\n",
      "Gunpowder Milkshake The Water Man This Little Love Of Mine Fatherhood Rust Creek How I Became a Superhero Last Summer The 8th Night Silver Skates Too Hot to Handle ['Season 2']\n",
      "Elize Matsunaga: Once Upon a Crime ['Season 1']\n",
      "Biohackers ['Season 2']\n",
      "Warcraft Mother's Day Kung Fu Panda 3 How to Train Your Dragon: The Hidden World The Huntsman: Winter's War Dynasty Warriors O Candidato Honesto Pokémon Journeys: The Series ['Season 1']\n",
      "Sweet Tooth ['Season 1']\n",
      "Young Royals ['Season 1']\n",
      "Somos. ['Season 1']\n",
      "The Ice Road Good on Paper Fatale Skylines The Mitchells vs. The Machines Murder by the Coast Rurouni Kenshin: Origins Prime Time Sophie: A Murder in West Cork ['Limited Series']\n",
      "Katla ['Season 1']\n",
      "Record of Ragnarok ['Season 1']\n",
      "Pasión de Gavilanes ['Season 1']\n",
      "The Queen of Flow ['Season 1']\n",
      "Gran Torino Ma The Mask of Zorro Nights in Rodanthe Love & Other Drugs The Kingdom ['Season 1']\n",
      "Pablo Escobar, el patrón del mal ['Season 1']\n",
      "Alpha Slender Man Non-Stop Gone Girl Blood and Money The Postcard Killings Okupas ['Season 1']\n",
      "Esperando la carroza Mary, Queen of Scots Blindspot ['Season 5']\n",
      "The Conductor Ashes in the Snow Night School Never Back Down Penguin Bloom Robin Hood Stepmom Happy Death Day 2U Falsa identidad ['Season 2']\n",
      "What Men Want Señora Acero ['Season 2']\n",
      "Cold Pursuit My Spy The Gentlemen Knives Out Mom ['Season 1']\n",
      "Catching Killers ['Season 1']\n",
      "Harriet Midway The Smurfs Disappearance at Clifton Hill L.A.’s Finest ['Season 2']\n",
      "Sonic the Hedgehog Official Secrets Like a Boss The Invisible Man Young Sheldon ['Season 1']\n",
      "Cosmic Sin John Wick: Chapter 3 - Parabellum Body of Lies Wild Rose The Adventures of Sharkboy and Lavagirl Wonder Woman 1984 21 Bridges Home Again The Hangover Jumper Animal Kingdom ['Season 5']\n",
      "Boss Level Gods of Egypt Superintelligence Escape Room Storks A Dog's Way Home The Witches Playing with Fire The Revenant Payback Chicago Med ['Season 1']\n",
      "We're the Millers The Internship The Life of David Gale Rick and Morty ['Season 5']\n",
      "Dolittle She's All That Chicago Fire ['Season 1']\n",
      "Suicide Squad U.S. Marshals The Mindy Project ['Season 1']\n",
      "The Real Housewives of Beverly Hills ['Season 5']\n",
      "Romeo Must Die Alvin and the Chipmunks: The Squeakquel Van Helsing Grace and Frankie ['Season 7']\n",
      "Hustlers Alone How Do You Know Joker Man of Steel Don't Let Go Last Madame ['Season 1']\n",
      "Harry Potter and the Sorcerer's Stone Harry Potter and the Chamber of Secrets Drillbit Taylor Harry Potter and the Half-Blood Prince Glow Up ['Season 3']\n",
      "Harry Potter and the Goblet of Fire Harry Potter and the Prisoner of Azkaban Harry Potter and the Order of the Phoenix Harry Potter and the Deathly Hallows: Part 1 Rambo: Last Blood The Wedding Ringer My Unorthodox Life ['Season 1']\n",
      "White Boy Rick The Dead Don't Die Batman v Superman: Dawn of Justice Gemini Man How to Be Single Late Night The Rundown Next The Dukes of Hazzard Big Timber ['Season 1']\n",
      "Queen of the South ['Season 4']\n",
      "Angel Has Fallen Spider-Man: Into the Spider-Verse Legacy of Lies Heartland ['Season 14']\n",
      "Perfect Stranger Sløborn ['Season 1']\n",
      "Daddy's Home Scary Movie Ocean's 8 National Security I, Frankenstein Black Hawk Down Blackhat Cast Away Black and Blue The Billion Dollar Code ['Limited Series']\n",
      "Memoirs of a Geisha Zombieland: Double Tap The Rite Man of Tai Chi How to Get Away With Murder ['Season 6']\n",
      "Modern Family ['Season 11']\n",
      "Superstore ['Season 2']\n",
      "The November Man Along Came a Spider Grown Ups 2 Rampage The Sum of All Fears The Longest Yard Legally Blonde White House Down The Physician The Blacklist ['Season 8']\n",
      "Birds of Prey (And the Fantabulous Emancipation of One Harley Quinn) Ready Player One The Angry Birds Movie 2 Downton Abbey ['Series 2']\n",
      "Riverdale ['Season 5']\n",
      "Just Mercy The Good Liar New Amsterdam ['Season 1']\n",
      "Creed II Looney Tunes: Back in Action Boruto: Naruto Next Generations ['Season 1']\n",
      "Doctor Sleep Once Upon a Time in Hollywood Homefront The Magnificent Seven Ghost Rider The Hobbit: An Unexpected Journey The Hobbit: The Desolation of Smaug The Interview The Hobbit: The Battle of the Five Armies Turkish for Beginners S.W.A.T. ['Season 2']\n",
      "Me Before You The Darkest Minds A Madea Family Funeral Happiness Ever After SpongeBob SquarePants ['Season 9']\n",
      "Colin in Black & White ['Limited Series']\n",
      "A Man Apart Double Team Little Red Riding Hood Son of the South Searching Premonition A.X.L. The Hurt Locker Pacific Rim The Grey Friday Great White The Smart Money Woman ['Season 1']\n",
      "Crank Ghost Ship Love Don't Cost a Thing Clash of the Titans Everything But a Man Us Daddy's Little Girls Superfly Escape Plan Man on a Ledge Really Love Family Reunion ['Part 4']\n",
      "King of Boys: The Return of the King ['Limited Series']\n",
      "Bullet to the Head Lockout Daddy Day Care Desperado Black Lightning ['Season 4']\n",
      "xXx What to Expect When You're Expecting First Daughter Miss Bala Laabam Deep Impact Watchmen The Terminal Seinfeld ['Season 3']\n",
      "The Core Tears of the Sun Uncle Drew Coach Carter Bohemian Rhapsody Legally Blonde 2: Red, White & Blonde Tughlaq Durbar War Avengement Mad Max: Fury Road Tom and Jerry: The Movie Mr. Robot ['Season 1']\n",
      "Resurrection: Ertugrul ['Season 2']\n",
      "Erin Brockovich Mr. Peabody & Sherman Creed The Bone Collector Encounter Black Knight Believe Me: The Abduction of Lisa McVey Big Momma's House My Amanda Vikings ['Season 6']\n",
      "Back to Q82 How to Become a Tyrant ['Season 1']\n",
      "Run All Night The Possession of Hannah Grace Monster-in-Law Monster Hunter The Wedding Guest Last Christmas Call My Agent Bollywood ['Season 1']\n",
      "3 Idiots Gunjan Saxena: The Kargil Girl Saaho Little Things ['Season 4']\n",
      "Sully Catch Me If You Can Kota Factory ['Season 2']\n",
      "Abominable Shikara Boomika (Hindi) Fast & Furious Presents: Hobbs & Shaw Vincenzo ['Season 1']\n",
      "Assassin's Creed Chennai Express Friends ['Season 1']\n",
      "Ginny Weds Sunny Zindagi Na Milegi Dobara Feels Like Ishq ['Season 1']\n",
      "Department Naam Shabana Ray ['Season 1']\n",
      "The Intern Dora and the Lost City of Gold Sniper: Ghost Shooter Jagame Thandhiram Crawl Crash Landing on You ['Season 1']\n",
      "The Secret Life of Pets 2 The Accountant Blumhouse's Fantasy Island Daddy's Home 2 Little Women Baywatch xXx: The Return of Xander Cage Den of Thieves Sniper: Assassin's End Fifty Shades Freed Freedom Writers Overboard (2018) Matilda Family Business ['Season 3']\n",
      "1917 Bad Boys for Life Undercover ['Season 2']\n",
      "Charlie's Angels The Emoji Movie The Smurfs 2 Pitch Perfect 3 The Informer Moneyball The Meg Brooklyn Nine-Nine ['Season 7']\n",
      "The Vanished Suits ['Season 9']\n",
      "A Simple Favor The Snowman A Second Chance:  Rivals! Justice League Disturbia Gone Baby Gone Death Wish (2018) Terminator Genisys Rise of the Guardians Shrek What's Your Number? The Shawshank Redemption Addams Family Values The Mask Spider-Man 2 Bride Wars Spider-Man Mine ['Season 1']\n",
      "La Reina del Sur ['Season 2']\n",
      "The Addams Family 90 Minutes in Heaven As Aventuras de Poliana ['Season 1']\n",
      "É Fada! John of God: The Crimes of a Spiritual Healer ['Season 1']\n",
      "Same Kind of Different as Me Um Suburbano Sortudo Wonder Park Bumblebee The Office (U.S.) ['Season 3']\n",
      "Corpse Bride Life or Something Like It Fight Club The Bold Type ['Season 4']\n",
      "The Fall ['Season 2']\n",
      "The Matrix The Hustle The Big Short Constantine Space Jam Rush Hour The Talented Mr. Ripley Bridget Jones's Baby Family Guy ['Season 18']\n",
      "What a Girl Wants How the Grinch Stole Christmas Dr. Seuss' The Grinch Dr. Seuss' The Lorax Richard Jewell This Is Us ['Season 5']\n",
      "The Hitman's Wife's Bodyguard The 40-Year-Old Virgin Halloween Minions The Dare Hubie Halloween Hellboy The General's Daughter Despicable Me 2 Despicable Me Prodigal Son ['Season 1']\n",
      "Dark Shadows Knock Knock The Poison Rose The Wolf of Wall Street Code 8 Stardust Edge of Tomorrow Straight Outta Compton Yesterday The Last Castle The Lego Movie Untold: Crime & Penalties The Equalizer Double Jeopardy Rocketman Bob Ross: Happy Accidents, Betrayal & Greed The Defeated ['Season 1']\n",
      "Wrath of Man Inside Man Anna A.P. Bio ['Season 1']\n",
      "It Chapter Two The Impossible Little Fockers Long shot Up in the Air Spider-Man: Far from Home A Sinister Sect: Colonia Dignidad ['Season 1']\n",
      "Deadly Sins ['Season 1']\n",
      "Lokillo Sin senos sí hay paraíso ['Season 1']\n",
      "El final del paraíso ['Season 1']\n",
      "Las muñecas de la mafia ['Season 1']\n",
      "Lokillo: Nothing's the Same No Reservations Burnt The House of Flowers: The Movie Holidate On the Verge ['Season 1']\n",
      "The Legend of Tarzan The Patriot The Notebook War Dogs The Heartbreak Kid Horrible Bosses 2 The Amazing Spider-Man 2 Chappie The Punisher Mothers Joint Custody Women´s Revenge Happiness Is a Bliss Smurfs: The Lost Village Tempos The Witcher ['Season 1']\n",
      "Princess Cursed in Time Terra Willy H2O: Just Add Water ['Season 3']\n",
      "The Hunt A Time to Kill The Sinner ['Jamie']\n",
      "Emma Love Song Company of Heroes Barbie Big City Big Dreams Jack Reacher: Never Go Back Hitch Get Rich or Die Tryin' The Good Place ['Season 4']\n",
      "Jane got a gun The Great Raid How to Lose a Guy in 10 Days Enough Elysium The Boondock Saints II: All Saints Day Cleveland Abduction My Summer Prince Peppa Pig ['Season 6']\n",
      "Summer of '92 RuPaul's Drag Race ['Season 13']\n",
      "Salt Big Mommas: Like Father, Like Son Héctor el Father: Conocerás la verdad All For Love ['Season 1']\n",
      "Betty en NY ['Season 1']\n",
      "High School Girls The Originals Nawara Photocopy صاحب المقام Gunshot Wannabe Courageous حكايات بنات الجزء ١ ['Season 1']\n",
      "Al-Mizan ['Season 1']\n",
      "Tiller The Land of Hypocrisy ['Season 1']\n",
      "راس السنة The Good, The Bad, and The Playful Ahwak The Suit When We are Born Ali Baba Love (ft. Marriage and Divorce) ['Season 2']\n",
      "Big Momma's House 2 My Girl Transformers: Dark of the Moon Transformers: Revenge of the Fallen Transformers Too Close For Christmas The Last Airbender San Andreas Ad Astra Focus LOL Surprise: The Movie Saving Private Ryan 8MM Spotlight Willy's Wonderland Skyscraper Goosebumps 2: Haunted Halloween Carbon Jurassic World: Fallen Kingdom Peter Rabbit Upgrade Smallfoot The House with a Clock in Its Walls Close Enemies Les déguns The Nun Shéhérazade Problemos BlacKkKlansman The Flash ['Season 6']\n",
      "The Invasion Sous le même toit Transporter 3 Hanna The Transporter Blockers 10 Cloverfield Lane The Deep End of the Ocean The First Purge Game Night Lionheart Jumanji: Welcome to the Jungle Geostorm Mortel ['Season 2']\n",
      "Taken 3 Arrow ['Season 8']\n",
      "The Lodge Once Upon a Time in America Geronimo: An American Legend Frida The Skeleton Key Crazy Rich Asians Little Big Mouth A Perfect Getaway The Replacement Killers Surviving R. Kelly ['Season 1']\n",
      "Eagle Eye White Chicks EDENS ZERO ['Season 1']\n",
      "Transporter 2 Boyz n the Hood Crank 2: High Voltage In Hell Jiva! ['Season 1']\n",
      "Zero to Hero Blood Diamond Inspector Koo ['Season 1']\n",
      "I'm Taking the Day Off ['Season 1']\n",
      "Guardian: The Lonely and Great God ['Season 1']\n",
      "After We Fell Downsizing Found The Queen's Classroom ['Season 1']\n",
      "More than Blue: The Series ['Season 1']\n",
      "Vanilla Sky Pretty Proofreader ['Season 1']\n",
      "Blade Runner 2049 Captain Phillips While You Were Sleeping ['Season 1']\n",
      "House of Wax That Time I Got Reincarnated as a Slime ['Season 1']\n",
      "Love is True ['Season 1']\n",
      "Stealth Divergent The Way Of The Hot & Spicy ['Season 1']\n",
      "School of Rock Demon Slayer -Kimetsu no Yaiba- The Movie: Mugen Train Spider-Man: Homecoming A Werewolf Boy The Darkest Hour Annabelle Comes Home Sabotage Godzilla: King of the Monsters The Crowned Clown Autumn's Concerto Mechanic: Resurrection Passengers Monster Hunter: Legends of the Guild Resident Evil: The Final Chapter Tidal Wave Resident Evil BG Personal Bodyguard ['Season 2']\n",
      "Lawless Lawyer Jujutsu Kaisen ['Season 1']\n",
      "The Rational Life ['Season 1']\n",
      "Mission: Impossible III Mobile Suit Gundam Hathaway War of the Worlds RESIDENT EVIL: Infinite Darkness ['Season 1']\n",
      "The Naked Director ['Season 2']\n",
      "Pokémon Detective Pikachu The Prodigy Battle Men in Black: International Dem Horizont so nah Can You Keep a Secret? The Wedding Unplanner The A List ['Season 2']\n",
      "L.A. Confidential Angel Eyes Baking Impossible ['Season 1']\n",
      "Love on the Spectrum ['Season 2']\n",
      "Untold: Caitlyn Jenner Faster Memories of a Murderer: The Nilsen Tapes Three Identical Strangers Doctor (Telugu) Maha Samudram Palm Springs Never Back Down 3 Crime Stories: India Detectives ['Season 1']\n"
     ]
    },
    {
     "name": "stdout",
     "output_type": "stream",
     "text": [
      "Tughlaq Durbar (Telugu) Roohi Into the Storm Comedy Premium League ['Season 1']\n",
      "Boomika The Devil's Advocate Itaewon Class ['Season 1']\n",
      "Acts of Violence Start-Up ['Season 1']\n",
      "Molly's Game Pandemic Dignitate Impetigore A World Without Twivortiare: Is It Love? Habibie & Ainun 3 The Last Witch Hunter Peppermint Mad Dog Colombiana Dragon Sicario Couple on the Backtrack Laundry Show Taken Now You See Me 2 Bleeding Steel Man in Love Sultan Agung: Throne, Rebellion, and Love Soekarno You Are My Spring ['Season 1']\n",
      "Nur ['Season 1']\n",
      "The Hitman’s Bodyguard Racket Boys ['Season 1']\n",
      "Ali & Ratu Ratu Queens Law School ['Season 1']\n",
      "Deck the Halls Pretty Little Liars ['Season 1']\n",
      "Out of Death Ransom Dark Waters The Next Three Days Falling for Figaro The First Wives Club Hotel Transylvania Luce Spider-Man 3 Shazam! Office Christmas Party Bad Sport ['Volume 1']\n",
      "The Amazing Spider-Man Pain & Gain Papillon Django Unchained Shot Caller The Blind Side Fear of Rain Something's Gotta Give The LEGO Movie 2: The Second Part The Mule Vendetta Paddington Black Mass The Serpent ['Limited Series']\n",
      "Chaos Blitz The Lego Batman Movie Kong: Skull Island Good Boys Chicken Run The Contract Criminal Aquaman Assault on Precinct 13 There Will Be Blood Jack Ryan: Shadow Recruit Widows We Can Be Heroes The Butterfly Effect Shtisel ['Season 3']\n",
      "Abduction The Debt Fantastic Fungi The Sentinel Brightburn Maid in Manhattan Still Out of My League A Walk Among the Tombstones An Astrological Guide for Broken Hearts ['Season 1']\n",
      "One Piece Stampede New in Town Luna Park ['Season 1']\n",
      "The Last Kingdom ['Season 4']\n",
      "Eat Pray Love Gridiron Gang Gangs of New York Attack on Titan ['Final Season Part 1']\n",
      "Rumor Has It... The Intruder An Almost Ordinary Summer Mile 22 Broken City Generation 56k ['Season 1']\n",
      "The Karate Kid Life in a Year Goosebumps Charlie's Angels: Full Throttle Ghost Rider: Spirit of Vengeance Teen Wolf ['Season 3']\n",
      "Fast & Furious Spy Racers ['South Pacific']\n",
      "Johnny Test ['Season 1']\n",
      "The Voice of Sin The Gangster, The Cop, The Devil We Couldn't Become Adults Iwane: Sword of Serenity Touch Your Heart My Love Story!! ['Season 1']\n",
      "Search WWW Mushoku Tensei: Jobless Reincarnation ['Season 1']\n",
      "461 Days of Bento How to Eliminate My Teacher ['Season 1']\n",
      "Homme Fatale Flip a Coin -ONE OK ROCK Documentary- STAND BY ME Doraemon 2 Hit Me Anyone One More Time! Kotaro Lives Alone ['Season 1']\n",
      "7 Secretaries ['Season 1']\n",
      "Her Private Life ['Season 1']\n",
      "Trial by Fire JAPAN SINKS: People of Hope ['Season 1']\n",
      "Monster ['Season 1']\n",
      "Sword Art Online the Movie: Ordinal Scale STAND BY ME Doraemon Mahjong Legend Akagi: The Genius Who Descended Into the Darkness ['Season 1']\n",
      "GOLGO13 ['Collection 1']\n",
      "Blue, Painful, Fragile Masquerade Hotel Tokyo Revengers ['Season 1']\n",
      "You're not normal, either! Midsommar Happy Death Day Hunter Killer Midsommar: The Director's Cut Twilight: Saya in Sasara DEATH NOTE ['Death Note']\n",
      "his You Shine in the Moonlight Parasyte: The Maxim ['Season 1']\n",
      "Fortuna's Eye The Blood of Wolves Crayon Shin-chan the Movie: Crash! Rakuga-Kingdom and Almost Four Heroes Pretty Guardian Sailor Moon Eternal The Movie ['Part 1 / Part 2']\n",
      "Catwoman Kaguya-sama: Love Is War My Hero Academia: Heroes Rising Extreme Job Sekigahara Whistleblower My Country: The New Age ['Season 1']\n",
      "My Hero Academia ['Season 5']\n",
      "Silent Tokyo It Comes My Blood & Bones in a flowing Galaxy My Dear Exes ['Season 1']\n",
      "Yakitate!! Japan ['Season 1']\n",
      "Seiji Oda ['Season 1']\n",
      "Exit Mirai In This Corner (and Other Corners) of the World Summer Wars Blind Witness The Boy and the Beast Wolf Children The Girl Who Leapt Through Time Closed Ward She was pretty ['Season 1']\n",
      "What's Wrong with Secretary Kim ['Season 1']\n",
      "Last Letter Peninsula Tenet 13 Hours: The Secret Soldiers of Benghazi The Platform My First Client The Master Plan One Night Switch Rush Hour 3 Prison Break ['Season 2']\n",
      "Caramel ['Season 1']\n",
      "Jinn ['Season 1']\n",
      "Taxi 5 Run Megamind The Blue Lagoon Vacation Get Hard 2012 The 15:17 to Paris Entrapment Flight Pretty Smart ['Season 1']\n",
      "Elektra Avatar: The Last Airbender ['Book 1']\n",
      "Victorious ['Season 1']\n",
      "Henry Danger ['Season 1']\n",
      "First Sunday Jumping the Broom The Specialist This Is Where I Leave You Horrible Bosses After the Sunset RocknRolla He's Just Not That Into You Hostage House Orange Is the New Black ['Season 7']\n",
      "The Tuxedo Unforgettable Wonder Woman CHIPS Life of the Party Collateral The World's Most Amazing Vacation Rentals ['Season 1']\n",
      "300: Rise of an Empire Masameer County ['Season 1']\n",
      "Shrek 2 Eurotrip Dangerous Beauty Time Out Blended Good Luck Chuck Glória ['Season 1']\n",
      "A Call to Spy Skater Girl Oh My Venus ['Season 1']\n",
      "Sa Balik Baju Upin & Ipin: The Lone Gibbon Kris Sivaji Frontliner Hell's Kitchen ['Season 20']\n",
      "Juvana Lagi Lagi Senario Susuk Bulan & Pria Terhebat Witch at Court Bikers Kental 2 Lieutenant Adnan Tangisan Akinabalu Fury Luck-Key Zombie Detective Birth of a Beauty ['Season 1']\n",
      "Kingdom ['Season 1']\n",
      "Reply 1988 ['Season 1']\n",
      "A Korean Odyssey ['Season 1']\n",
      "A Cinderella Story Ella Enchanted Horimiya ['Season 1']\n",
      "The Code Below Deck Mediterranean ['Season 3']\n",
      "Escape Plan: The Extractors Wild Oats John Wick: Chapter 2 Marmaduke Trust The Legend of Zorro The International The Conjuring 2 Men in Black 3 High Crimes Everything Will Be Fine ['Season 1']\n",
      "Bankrolled La bella y las bestias ['Season 1']\n",
      "La ley de Herodes Bedazzled Layer Cake The Big Slime Movie Crazy, Stupid, Love ZeroZeroZero ['Season 1']\n",
      "Misfit: The Series ['Season 1']\n",
      "Baby Driver Breaking In The Killing ['Season 1']\n",
      "Mamma Mia! Here We Go Again Executive Decision The Spy Who Dumped Me Mees Kees in de Wolken Herrie in Huize Gerri Fracture Vanquish Sicario: Day of the Soldado 17 Again Miracles from Heaven Mercury Rising The Angry Birds Movie Old People's Home for 4 Year Olds ['Season 1']\n",
      "Frayed ['Season 1']\n",
      "Wrong Turn Ballerina The Pianist John Wick Ladies in Black The Judge 3 Days to Kill True Grit The Family Spy Kids 2: The Island of Lost Dreams Spy Kids Barnyard UglyDolls The Frozen Ground Queen of the Desert Boy Infamous The Missing Captive State The SpongeBob Movie: Sponge Out of Water Omo Ghetto: the Saga Alter Ego Special Jollof Gone Swallow Castle and Castle ['Season 1']\n",
      "Jupiter Ascending King of Boys Shadow Parties The Ghost and the Tout Quam's Money Nneka The Pretty Serpent Kambili: The Whole 30 Yards Unroyal Slay '76 Brother Jekwu It’s a Crazy World ['Season 1']\n",
      "Ije: The Journey 2 Weeks in Lagos Day of Destiny Sanitation Day RattleSnake - The Ahanna Story Finding Hubby Last Request Deranged Voiceless A Way Back Home The Unlikely Murderer ['Limited Series']\n",
      "The Last of the Mohicans Post Mortem: No One Dies in Skarnes ['Season 1']\n",
      "22 July Sniper: Reloaded Kabir Singh Badla Pink El Cartel ['Season 1']\n",
      "Causa justa The Seal: Number 10 from the Street A Girl and A Guy He’s Into Her ['Season 1']\n",
      "The Promise ['Season 1']\n",
      "I Am U ['Season 1']\n",
      "A Love to Last ['Season 1']\n",
      "My Husband-in-Law ['Season 1']\n",
      "Mirrors Daredevil Owe My Love ['Season 1']\n",
      "The Last Samurai I'm Drunk, I Love You The Law of Revenge ['Season 1']\n",
      "A Faraway Land Parker Here and There Commitment Bliss The Boy Family History Glorious Bagman ['Season 1']\n",
      "The Upside Mommy Issues American Assassin The Transporter Refueled Valerian and the City of a Thousand Planets Lullaby Killer Career Girl Operation Hyacinth Pitbull Public Orders Bogdan Boner: Egzorcysta ['Season 2']\n",
      "The Way Back The Boy in the Striped Pajamas Sea Fever The Mire [\"'97\"]\n",
      "Archiwista Five Feet Apart Luccas Neto em: Duas Babás Muito Esquisitas Snow, Tea and Love Ninja Assassin In the Cut Vanity Fair The Rhythm Section The Good Shepherd Gloria Bell Motherless Brooklyn L'etudiante et Monsieur Henri Murder Mystery The King 6 Underground The Irishman Detective Anna ['Season 1']\n",
      "The Firm Dinner for Schmucks The Legend of the Blue Sea ['Season 1']\n",
      "Supergirl ['Season 5']\n",
      "Scary Movie 2 Yu Yu Hakusho: Ghost Files ['Season 1']\n",
      "The Seventh Day Takki ['Season 3']\n",
      "Rush Hour 2 Tusk The Tambour of Retribution The Innocent ['Limited Series']\n",
      "47 Metres Down Patriots Day The Commuter Long Long Time Ago 4: The Diam Diam Era 2 Days of Disaster Get Smart Trivisa Detective Chinatown 2 New York Minute Failure to Launch Teen Titans Go! To the Movies Ace Ventura: Pet Detective The House Just Like Heaven Father Figures Voice Of Silence Kin The Outlaws Night in Paradise Reflection of You ['Season 1']\n",
      "Love After Divorce ['Season 2']\n",
      "Lost ['Season 1']\n",
      "Guimoon: The Lightless Door Hacksaw Ridge The Raincoat Killer: Chasing a Predator in Korea ['Season 1']\n",
      "Men on a Mission ['Men on a Mission 2021']\n",
      "Diva Asura: The City of Madness My Golden Kids ['My Golden Kids 2021']\n",
      "The Way of the Househusband ['Season 1']\n",
      "Paik's Spirit ['Season 1']\n",
      "Mr. Sunshine ['Season 1']\n",
      "Moby Dick Inside Men Sweet & Sour The Gentlemen's League [\"The Gentlemen's League 2\"]\n",
      "Whispering Corridors 6: The Humming Seeking Justice A Violent Prosecutor Let Him Go Tunnel Change Days The Guard Post A Cure for Wellness Prison Playbook ['Season 1']\n",
      "Prisoners Aloners Running Wild La La Land The Battle: Roar to Victory My Sassy Girl Monthly Magazine Home ['Season 1']\n",
      "Stranger ['Season 1']\n",
      "Spirited Away Stone Skipping Legend of The Fist : The Return of Chen Zhen The Banquet Parasite A Family OK! Madam Young Adult Matters The Iron Squad ['Season 1']\n",
      "Ace of Diamond Alien: Covenant Mad for Each Other ['Season 1']\n",
      "My Mister ['Season 1']\n",
      "The Grudge Love Never Lies ['Season 1']\n",
      "Aquí no hay quien viva ['Temporada 4']\n",
      "The Time It Takes ['Season 1']\n",
      "Insiders ['Season 1']\n",
      "Pacific Rim: Uprising El Barco ['Season 1']\n",
      "Un Paso Adelante ['Season 1']\n",
      "I Now Pronounce You Chuck and Larry Allied Primal Fear 32 Malasana Street Fool's Gold O Kadhal Kanmani Barbie & Chelsea: The Lost Birthday Hotel Transylvania 2 StartUp ['Season 1']\n",
      "A Walk to Remember Number 1 Heaven on the 4th Floor ['Season 1']\n",
      "Misty ['Season 1']\n",
      "My ID is Gangnam Beauty ['Season 1']\n",
      "Be Alive Just Like You The Bridges of Madison County The Hunger Games: Mockingjay - Part 1 Love is Science? ['Season 1']\n",
      "The Age of Adaline Upcoming Summer U Motherbaker ['Season 1']\n",
      "Formosa 1867 ['Season 1']\n",
      "The Pond Overlord Doctor John ['Season 1']\n",
      "Ip Man 42 Dear Tenant The Making of an Ordinary Woman The Story of Minglan I missed you: Director's Cut Jump Ashin! A Writer's Odyssey Once Again ['Season 1']\n",
      "The Long Ballad Mission: Impossible - Fallout Shadow in the Cloud Primal Help me! Oh My Ghost ['Season 1']\n",
      "Game of Outlaws ['Season 1']\n",
      "My Boss is a Serial Killer Jiu Jitsu Social Syndrome Songbird Haunted Tales Collectors Please (Her) I See Dead People ['Season 1']\n",
      "Bangkok Breaking ['Season 1']\n",
      "Love You Koak E-Gerng Remember You ['Season 1']\n",
      "The Con-Heartist Metamorphosis The Knight of Shadows: Between Yin and Yang Dare to Love ['Season 1']\n",
      "The Hurricane Heist 12 Strong Unhinged Green Book I Need Romance Come and See The Uncanny Counter ['Season 1']\n",
      "Ender's Game Love You My Arrogance So I'm a Spider, So What? ['Season 1']\n",
      "The Blind Shot The Big Wedding Show Dogs Masters of the Universe: Revelation ['Part 1']\n",
      "Meeting Point Capernaum I'm Glad I Did The Gift ['Season 3']\n",
      "Blind Love Passed By Censor Recep İvedik 6 The Hardest Thing Hababam Sınıfı Aloha Jack Whitehall: Travels with My Father ['Season 5']\n",
      "Rise of the Footsoldier 3: The Pat Tate Story The Island Solomon Kane Ackley Bridge ['Series 3']\n",
      "Split The Deceived ['Series 1']\n",
      "Seized American Gangster The Holiday The Thundermans ['Season 1']\n",
      "60 Days In ['Season 6']\n"
     ]
    },
    {
     "name": "stdout",
     "output_type": "stream",
     "text": [
      "Replicas Home Apocalypse Now Redux Reprisal Scary Movie 4 In the Dark ['Season 3']\n",
      "Something Borrowed Jumanji Gladiator The DUFF Step Brothers Till Death An Unfinished Life Wind River The Paper Tigers The Net Poms Talladega Nights: The Ballad of Ricky Bobby The Best of Enemies Bureau of Magical Things ['Season 1']\n",
      "Dog Gone Trouble Rebelde Way ['Temporada 1']\n",
      "Her Mother's Killer ['Season 1']\n",
      "Surviving Escobar - Alias JJ ['Season 1']\n",
      "Camellia Sisters Space Sweepers The Merciless Vagabond ['Season 1']\n",
      "The Berlin File Honest Thief Let Hoi Decide Sweet 20 The Gunman The Legend of Mi Yue ['Season 1']\n",
      "Descendants of the Sun ['Season 1']\n",
      "The Fiery Priest Dreamy Eyes My Mr. Wife Glitch -------------------------------------------\n",
      "# 1 : 특정 기간 동안 나라별 top-N           \n",
      "# 2 : 특정 기간 동안 특정 작품의 나라별 순위 \n",
      "# 3 : 특정 기간 동안 특정 작품의 전세계 순위 \n",
      "# 4 : Netflix 이용국 출력 \n",
      "# 5 : 검색 가능한 Neflix 작품 리스트 출력 \n",
      "# 0 : 종료 \n",
      "-------------------------------------------\n",
      "원하는 기능을 입력하세요: 0\n",
      "프로그램 종료합니다.\n"
     ]
    }
   ],
   "source": [
    "while True:\n",
    "    \n",
    "    display()\n",
    "    if not choose_and_call():\n",
    "        break\n",
    "\n",
    "    "
   ]
  },
  {
   "cell_type": "markdown",
   "id": "82875228",
   "metadata": {
    "id": "Aae4onOkcABg"
   },
   "source": [
    "## "
   ]
  },
  {
   "cell_type": "markdown",
   "id": "a50987b6",
   "metadata": {},
   "source": [
    "## "
   ]
  }
 ],
 "metadata": {
  "colab": {
   "collapsed_sections": [
    "S_ZMnZhpBVHw",
    "08fe2e14"
   ],
   "name": "PROJECT_211128.ipynb",
   "provenance": [],
   "toc_visible": true
  },
  "kernelspec": {
   "display_name": "Python 3 (ipykernel)",
   "language": "python",
   "name": "python3"
  },
  "language_info": {
   "codemirror_mode": {
    "name": "ipython",
    "version": 3
   },
   "file_extension": ".py",
   "mimetype": "text/x-python",
   "name": "python",
   "nbconvert_exporter": "python",
   "pygments_lexer": "ipython3",
   "version": "3.9.7"
  }
 },
 "nbformat": 4,
 "nbformat_minor": 5
}
