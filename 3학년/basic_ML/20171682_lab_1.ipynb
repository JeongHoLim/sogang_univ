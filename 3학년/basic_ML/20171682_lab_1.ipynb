{
 "cells": [
  {
   "cell_type": "markdown",
   "id": "hawaiian-canal",
   "metadata": {},
   "source": [
    "# 연습문제\n",
    "\n",
    "\n",
    "## numpy\n",
    "\n",
    "python에서 array등을 다루는 수학/과학 컴퓨팅을 하기 위한 패키지\n",
    "\n",
    "## matplotlib\n",
    "\n",
    "python에서 matlab과 유사한 그래프 표시를 가능하게 하는 패키지"
   ]
  },
  {
   "cell_type": "code",
   "execution_count": 1,
   "id": "coordinated-russell",
   "metadata": {},
   "outputs": [
    {
     "name": "stdout",
     "output_type": "stream",
     "text": [
      "Requirement already satisfied: numpy in c:\\users\\임정호\\appdata\\local\\programs\\python\\python39\\lib\\site-packages (1.20.2)\n"
     ]
    },
    {
     "name": "stderr",
     "output_type": "stream",
     "text": [
      "WARNING: You are using pip version 20.2.3; however, version 21.1 is available.\n",
      "You should consider upgrading via the 'c:\\users\\임정호\\appdata\\local\\programs\\python\\python39\\python.exe -m pip install --upgrade pip' command.\n"
     ]
    },
    {
     "name": "stdout",
     "output_type": "stream",
     "text": [
      "Requirement already satisfied: matplotlib in c:\\users\\임정호\\appdata\\local\\programs\\python\\python39\\lib\\site-packages (3.4.0)\n",
      "Requirement already satisfied: kiwisolver>=1.0.1 in c:\\users\\임정호\\appdata\\local\\programs\\python\\python39\\lib\\site-packages (from matplotlib) (1.3.1)\n",
      "Requirement already satisfied: pillow>=6.2.0 in c:\\users\\임정호\\appdata\\local\\programs\\python\\python39\\lib\\site-packages (from matplotlib) (8.1.2)\n",
      "Requirement already satisfied: pyparsing>=2.2.1 in c:\\users\\임정호\\appdata\\local\\programs\\python\\python39\\lib\\site-packages (from matplotlib) (2.4.7)\n",
      "Requirement already satisfied: cycler>=0.10 in c:\\users\\임정호\\appdata\\local\\programs\\python\\python39\\lib\\site-packages (from matplotlib) (0.10.0)\n",
      "Requirement already satisfied: python-dateutil>=2.7 in c:\\users\\임정호\\appdata\\local\\programs\\python\\python39\\lib\\site-packages (from matplotlib) (2.8.1)\n",
      "Requirement already satisfied: numpy>=1.16 in c:\\users\\임정호\\appdata\\local\\programs\\python\\python39\\lib\\site-packages (from matplotlib) (1.20.2)\n",
      "Requirement already satisfied: six in c:\\users\\임정호\\appdata\\local\\programs\\python\\python39\\lib\\site-packages (from cycler>=0.10->matplotlib) (1.15.0)\n"
     ]
    },
    {
     "name": "stderr",
     "output_type": "stream",
     "text": [
      "WARNING: You are using pip version 20.2.3; however, version 21.1 is available.\n",
      "You should consider upgrading via the 'c:\\users\\임정호\\appdata\\local\\programs\\python\\python39\\python.exe -m pip install --upgrade pip' command.\n"
     ]
    }
   ],
   "source": [
    "# Cell 클릭 후 Shift+Enter로 실행 (Comment는 #으로 시작)\n",
    "\n",
    "# Install necessary packages\n",
    "!pip install numpy\n",
    "!pip install matplotlib"
   ]
  },
  {
   "cell_type": "markdown",
   "id": "nuclear-finnish",
   "metadata": {},
   "source": [
    "## numpy\n",
    "(본 cell은 markdown 형식으로, 더블클릭/Enter로 들어가고 Shift+Enter로 나갈 수 있다. 주석 용으로 사용.)  \n",
    "\n",
    "python에서 과학 컴퓨팅을 하기 위해 사용하는 패키지로 python 라이브러리로 Import 하여 사용."
   ]
  },
  {
   "cell_type": "code",
   "execution_count": 2,
   "id": "light-property",
   "metadata": {},
   "outputs": [],
   "source": [
    "# 패키지 사용을 위한 약자 지정\n",
    "\n",
    "import numpy as np\n",
    "import matplotlib.pyplot as plt\n",
    "\n",
    "%matplotlib inline"
   ]
  },
  {
   "cell_type": "markdown",
   "id": "active-female",
   "metadata": {},
   "source": [
    "# Lab_1: Perceptron\n",
    "---\n",
    "Perceptron 알고리즘 구현하기\n",
    "아래 이름, 학번을 작성하세요."
   ]
  },
  {
   "cell_type": "code",
   "execution_count": 3,
   "id": "damaged-singles",
   "metadata": {},
   "outputs": [],
   "source": [
    "lab1_student_id = '20171682'\n",
    "lab1_student_name = '임정호'"
   ]
  },
  {
   "cell_type": "markdown",
   "id": "promotional-barcelona",
   "metadata": {},
   "source": [
    "## Practice 1\n",
    "\n",
    "아래의 train_perceptron 알고리즘을 구현하시오."
   ]
  },
  {
   "cell_type": "markdown",
   "id": "hungry-feedback",
   "metadata": {},
   "source": [
    "```np.random.seed``` \n",
    "\n",
    "random number(난수) 발생을 위한 조건 설정. 괄호 안의 숫자에 따라 난수 생성 방식이 다르게 고정됨\n",
    "\n",
    "(https://docs.scipy.org/doc/numpy-1.15.0/reference/generated/numpy.random.seed.html)\n",
    "\n"
   ]
  },
  {
   "cell_type": "code",
   "execution_count": 4,
   "id": "adaptive-identification",
   "metadata": {},
   "outputs": [],
   "source": [
    "# Do not change\n",
    "np.random.seed(10)"
   ]
  },
  {
   "cell_type": "markdown",
   "id": "north-chassis",
   "metadata": {},
   "source": [
    "```np.random.multivariate_normal```\n",
    "\n",
    "multivariate normal distribution 으로부터 random sample 을 추출\n",
    "\n",
    "https://numpy.org/doc/stable/reference/random/generated/numpy.random.multivariate_normal.html"
   ]
  },
  {
   "cell_type": "code",
   "execution_count": 5,
   "id": "separated-chance",
   "metadata": {},
   "outputs": [
    {
     "name": "stdout",
     "output_type": "stream",
     "text": [
      "class_zeros: \n",
      "[[-1.42793186 -1.20174079]\n",
      " [ 1.52728612  1.52463492]\n",
      " [-0.49966459 -0.72737564]\n",
      " [-0.27933471 -0.24500866]\n",
      " [ 0.02336927 -0.03184417]\n",
      " [-0.61779601 -0.23736219]\n",
      " [ 0.79034159  1.1155104 ]\n",
      " [-0.2961366  -0.15537173]\n",
      " [ 1.10093774  1.14367178]\n",
      " [-1.29513069 -1.63659498]\n",
      " [ 2.22850157  1.67719884]\n",
      " [-0.63981968  0.11437321]\n",
      " [-1.374021   -0.84509142]\n",
      " [-0.31894464  0.12314063]\n",
      " [ 0.17087983  0.36479202]\n",
      " [ 0.35080796  0.17710119]\n",
      " [-0.05575428 -0.20632361]\n",
      " [-1.32284795 -1.26117934]\n",
      " [-0.34179134 -0.44856006]\n",
      " [-1.12493241 -1.35640149]] \n",
      "class_ones: \n",
      "[[ 0.46109985  4.2689194 ]\n",
      " [ 2.03752859  5.76950756]\n",
      " [ 1.83208063  5.71558133]\n",
      " [ 1.24068339  5.4116659 ]\n",
      " [ 0.49682627  4.41608087]\n",
      " [ 0.94574325  5.10408666]\n",
      " [ 1.32530146  5.71317667]\n",
      " [ 0.13422129  4.24572708]\n",
      " [-1.55440871  2.94810424]\n",
      " [ 1.20716741  5.008793  ]\n",
      " [ 1.36070986  5.08590163]\n",
      " [ 0.10547235  3.72326606]\n",
      " [ 1.22297452  4.93306712]\n",
      " [ 0.38230112  3.60532598]\n",
      " [ 1.3820258   5.3152553 ]\n",
      " [ 0.56662937  4.81907629]\n",
      " [ 0.93667142  5.47840872]\n",
      " [ 0.02148544  5.37307358]\n",
      " [ 2.28069866  6.62061565]\n",
      " [ 2.22372     5.78663257]]\n"
     ]
    }
   ],
   "source": [
    "num_data = 20\n",
    "\n",
    "# feature dataset\n",
    "\n",
    "class_zeros = np.random.multivariate_normal(mean=[0, 0], cov=[[1., .95],[.95, 1.]], size=num_data)\n",
    "class_ones = np.random.multivariate_normal(mean=[1, 5], cov=[[1., .85],[.85, 1.]], size=num_data)\n",
    "\n",
    "print(f'class_zeros: \\n{class_zeros} \\nclass_ones: \\n{class_ones}')"
   ]
  },
  {
   "cell_type": "markdown",
   "id": "greenhouse-receiver",
   "metadata": {},
   "source": [
    "```np.vstack, np.hstack```\n",
    "\n",
    "배열을 각각 vertically, horizontally stacking 함\n",
    "\n",
    "\n",
    "https://numpy.org/doc/stable/reference/generated/numpy.vstack.html?highlight=vstack#numpy.vstack\n",
    "\n",
    "https://numpy.org/doc/stable/reference/generated/numpy.hstack.html?highlight=hstack#numpy.hstack"
   ]
  },
  {
   "cell_type": "code",
   "execution_count": 6,
   "id": "french-aluminum",
   "metadata": {},
   "outputs": [
    {
     "name": "stdout",
     "output_type": "stream",
     "text": [
      "biases: \n",
      "[[1.]\n",
      " [1.]\n",
      " [1.]\n",
      " [1.]\n",
      " [1.]\n",
      " [1.]\n",
      " [1.]\n",
      " [1.]\n",
      " [1.]\n",
      " [1.]\n",
      " [1.]\n",
      " [1.]\n",
      " [1.]\n",
      " [1.]\n",
      " [1.]\n",
      " [1.]\n",
      " [1.]\n",
      " [1.]\n",
      " [1.]\n",
      " [1.]\n",
      " [1.]\n",
      " [1.]\n",
      " [1.]\n",
      " [1.]\n",
      " [1.]\n",
      " [1.]\n",
      " [1.]\n",
      " [1.]\n",
      " [1.]\n",
      " [1.]\n",
      " [1.]\n",
      " [1.]\n",
      " [1.]\n",
      " [1.]\n",
      " [1.]\n",
      " [1.]\n",
      " [1.]\n",
      " [1.]\n",
      " [1.]\n",
      " [1.]] \n",
      "class_data: \n",
      "[[-1.4279319  -1.2017407 ]\n",
      " [ 1.5272862   1.524635  ]\n",
      " [-0.4996646  -0.7273756 ]\n",
      " [-0.27933472 -0.24500866]\n",
      " [ 0.02336927 -0.03184417]\n",
      " [-0.617796   -0.23736219]\n",
      " [ 0.7903416   1.1155103 ]\n",
      " [-0.2961366  -0.15537173]\n",
      " [ 1.1009377   1.1436718 ]\n",
      " [-1.2951307  -1.636595  ]\n",
      " [ 2.2285016   1.6771989 ]\n",
      " [-0.6398197   0.11437321]\n",
      " [-1.374021   -0.8450914 ]\n",
      " [-0.31894463  0.12314063]\n",
      " [ 0.17087983  0.36479202]\n",
      " [ 0.35080796  0.1771012 ]\n",
      " [-0.05575428 -0.20632361]\n",
      " [-1.322848   -1.2611793 ]\n",
      " [-0.34179133 -0.44856006]\n",
      " [-1.1249324  -1.3564014 ]\n",
      " [ 0.46109986  4.2689195 ]\n",
      " [ 2.0375285   5.7695074 ]\n",
      " [ 1.8320806   5.7155814 ]\n",
      " [ 1.2406834   5.411666  ]\n",
      " [ 0.49682626  4.416081  ]\n",
      " [ 0.94574326  5.104087  ]\n",
      " [ 1.3253014   5.7131767 ]\n",
      " [ 0.13422129  4.245727  ]\n",
      " [-1.5544087   2.9481041 ]\n",
      " [ 1.2071674   5.008793  ]\n",
      " [ 1.3607099   5.0859017 ]\n",
      " [ 0.10547235  3.7232661 ]\n",
      " [ 1.2229745   4.9330673 ]\n",
      " [ 0.38230112  3.605326  ]\n",
      " [ 1.3820258   5.315255  ]\n",
      " [ 0.56662935  4.819076  ]\n",
      " [ 0.93667144  5.478409  ]\n",
      " [ 0.02148543  5.3730736 ]\n",
      " [ 2.2806988   6.6206155 ]\n",
      " [ 2.22372     5.7866325 ]] \n",
      "features: \n",
      "[[ 1.         -1.4279319  -1.20174074]\n",
      " [ 1.          1.52728617  1.52463496]\n",
      " [ 1.         -0.4996646  -0.72737563]\n",
      " [ 1.         -0.27933472 -0.24500866]\n",
      " [ 1.          0.02336927 -0.03184417]\n",
      " [ 1.         -0.617796   -0.23736219]\n",
      " [ 1.          0.79034162  1.11551034]\n",
      " [ 1.         -0.29613659 -0.15537173]\n",
      " [ 1.          1.10093772  1.14367175]\n",
      " [ 1.         -1.29513073 -1.63659501]\n",
      " [ 1.          2.22850156  1.67719889]\n",
      " [ 1.         -0.63981968  0.11437321]\n",
      " [ 1.         -1.37402105 -0.8450914 ]\n",
      " [ 1.         -0.31894463  0.12314063]\n",
      " [ 1.          0.17087983  0.36479202]\n",
      " [ 1.          0.35080796  0.17710119]\n",
      " [ 1.         -0.05575428 -0.20632361]\n",
      " [ 1.         -1.32284796 -1.26117933]\n",
      " [ 1.         -0.34179133 -0.44856006]\n",
      " [ 1.         -1.12493241 -1.35640144]\n",
      " [ 1.          0.46109986  4.26891947]\n",
      " [ 1.          2.03752851  5.76950741]\n",
      " [ 1.          1.8320806   5.71558142]\n",
      " [ 1.          1.24068344  5.41166592]\n",
      " [ 1.          0.49682626  4.41608095]\n",
      " [ 1.          0.94574326  5.10408688]\n",
      " [ 1.          1.32530141  5.71317673]\n",
      " [ 1.          0.13422129  4.24572706]\n",
      " [ 1.         -1.55440867  2.94810414]\n",
      " [ 1.          1.20716739  5.00879288]\n",
      " [ 1.          1.36070991  5.08590174]\n",
      " [ 1.          0.10547235  3.72326612]\n",
      " [ 1.          1.22297454  4.93306732]\n",
      " [ 1.          0.38230112  3.60532594]\n",
      " [ 1.          1.38202584  5.31525517]\n",
      " [ 1.          0.56662935  4.81907606]\n",
      " [ 1.          0.93667144  5.47840881]\n",
      " [ 1.          0.02148543  5.37307358]\n",
      " [ 1.          2.28069878  6.62061548]\n",
      " [ 1.          2.22372007  5.78663254]]\n",
      "biases.shape: \n",
      "(40, 1) \n",
      "class_data.shape: \n",
      "(40, 2) \n",
      "features.shape: \n",
      "(40, 3)\n"
     ]
    }
   ],
   "source": [
    "biases = np.ones((2 * num_data, 1))\n",
    "\n",
    "class_data = np.vstack((class_zeros, class_ones)).astype(np.float32)\n",
    "\n",
    "features = np.hstack((biases, class_data))\n",
    "\n",
    "print(f'biases: \\n{biases} \\nclass_data: \\n{class_data} \\nfeatures: \\n{features}')\n",
    "print(f'biases.shape: \\n{biases.shape} \\nclass_data.shape: \\n{class_data.shape} \\\n",
    "\\nfeatures.shape: \\n{features.shape}')"
   ]
  },
  {
   "cell_type": "code",
   "execution_count": 7,
   "id": "grand-kitty",
   "metadata": {},
   "outputs": [
    {
     "name": "stdout",
     "output_type": "stream",
     "text": [
      "labels: \n",
      "[[0.]\n",
      " [0.]\n",
      " [0.]\n",
      " [0.]\n",
      " [0.]\n",
      " [0.]\n",
      " [0.]\n",
      " [0.]\n",
      " [0.]\n",
      " [0.]\n",
      " [0.]\n",
      " [0.]\n",
      " [0.]\n",
      " [0.]\n",
      " [0.]\n",
      " [0.]\n",
      " [0.]\n",
      " [0.]\n",
      " [0.]\n",
      " [0.]\n",
      " [1.]\n",
      " [1.]\n",
      " [1.]\n",
      " [1.]\n",
      " [1.]\n",
      " [1.]\n",
      " [1.]\n",
      " [1.]\n",
      " [1.]\n",
      " [1.]\n",
      " [1.]\n",
      " [1.]\n",
      " [1.]\n",
      " [1.]\n",
      " [1.]\n",
      " [1.]\n",
      " [1.]\n",
      " [1.]\n",
      " [1.]\n",
      " [1.]] \n",
      "dataset: \n",
      "[[ 1.         -1.4279319  -1.20174074  0.        ]\n",
      " [ 1.          1.52728617  1.52463496  0.        ]\n",
      " [ 1.         -0.4996646  -0.72737563  0.        ]\n",
      " [ 1.         -0.27933472 -0.24500866  0.        ]\n",
      " [ 1.          0.02336927 -0.03184417  0.        ]\n",
      " [ 1.         -0.617796   -0.23736219  0.        ]\n",
      " [ 1.          0.79034162  1.11551034  0.        ]\n",
      " [ 1.         -0.29613659 -0.15537173  0.        ]\n",
      " [ 1.          1.10093772  1.14367175  0.        ]\n",
      " [ 1.         -1.29513073 -1.63659501  0.        ]\n",
      " [ 1.          2.22850156  1.67719889  0.        ]\n",
      " [ 1.         -0.63981968  0.11437321  0.        ]\n",
      " [ 1.         -1.37402105 -0.8450914   0.        ]\n",
      " [ 1.         -0.31894463  0.12314063  0.        ]\n",
      " [ 1.          0.17087983  0.36479202  0.        ]\n",
      " [ 1.          0.35080796  0.17710119  0.        ]\n",
      " [ 1.         -0.05575428 -0.20632361  0.        ]\n",
      " [ 1.         -1.32284796 -1.26117933  0.        ]\n",
      " [ 1.         -0.34179133 -0.44856006  0.        ]\n",
      " [ 1.         -1.12493241 -1.35640144  0.        ]\n",
      " [ 1.          0.46109986  4.26891947  1.        ]\n",
      " [ 1.          2.03752851  5.76950741  1.        ]\n",
      " [ 1.          1.8320806   5.71558142  1.        ]\n",
      " [ 1.          1.24068344  5.41166592  1.        ]\n",
      " [ 1.          0.49682626  4.41608095  1.        ]\n",
      " [ 1.          0.94574326  5.10408688  1.        ]\n",
      " [ 1.          1.32530141  5.71317673  1.        ]\n",
      " [ 1.          0.13422129  4.24572706  1.        ]\n",
      " [ 1.         -1.55440867  2.94810414  1.        ]\n",
      " [ 1.          1.20716739  5.00879288  1.        ]\n",
      " [ 1.          1.36070991  5.08590174  1.        ]\n",
      " [ 1.          0.10547235  3.72326612  1.        ]\n",
      " [ 1.          1.22297454  4.93306732  1.        ]\n",
      " [ 1.          0.38230112  3.60532594  1.        ]\n",
      " [ 1.          1.38202584  5.31525517  1.        ]\n",
      " [ 1.          0.56662935  4.81907606  1.        ]\n",
      " [ 1.          0.93667144  5.47840881  1.        ]\n",
      " [ 1.          0.02148543  5.37307358  1.        ]\n",
      " [ 1.          2.28069878  6.62061548  1.        ]\n",
      " [ 1.          2.22372007  5.78663254  1.        ]]\n"
     ]
    }
   ],
   "source": [
    "# Label dataset\n",
    "\n",
    "label_zeros = np.zeros((num_data, 1))\n",
    "label_ones = np.ones((num_data, 1))\n",
    "\n",
    "labels = np.vstack((label_zeros, label_ones))\n",
    "dataset = np.hstack((features,labels))\n",
    "\n",
    "print(f'labels: \\n{labels} \\ndataset: \\n{dataset}')"
   ]
  },
  {
   "cell_type": "code",
   "execution_count": 8,
   "id": "abandoned-democrat",
   "metadata": {},
   "outputs": [
    {
     "data": {
      "image/png": "[encoded data removed]",
      "text/plain": [
       "<Figure size 432x288 with 1 Axes>"
      ]
     },
     "metadata": {
      "needs_background": "light"
     },
     "output_type": "display_data"
    }
   ],
   "source": [
    "plt.scatter(features[:, 1][:num_data], features[:, 2][:num_data], c = 'r', label='0')\n",
    "plt.scatter(features[:, 1][num_data:], features[:, 2][num_data:], c = 'b', label='1')\n",
    "\n",
    "plt.legend()\n",
    "plt.show()"
   ]
  },
  {
   "cell_type": "code",
   "execution_count": 9,
   "id": "disabled-species",
   "metadata": {},
   "outputs": [
    {
     "name": "stdout",
     "output_type": "stream",
     "text": [
      "(28, 4) (12, 4)\n"
     ]
    }
   ],
   "source": [
    "# dataset shuffling\n",
    "np.random.shuffle(dataset)\n",
    "\n",
    "split_ratio = 0.7\n",
    "\n",
    "# splitting dataset\n",
    "train = dataset[0:int(split_ratio * (num_data * 2))]\n",
    "test = dataset[int(split_ratio * (num_data * 2)):(num_data * 2)]\n",
    "\n",
    "print(train.shape, test.shape)"
   ]
  },
  {
   "cell_type": "code",
   "execution_count": 10,
   "id": "amended-tsunami",
   "metadata": {},
   "outputs": [
    {
     "name": "stdout",
     "output_type": "stream",
     "text": [
      "(28, 3) (28,)\n",
      "(12, 3) (12,)\n"
     ]
    }
   ],
   "source": [
    "# reshaping data\n",
    "x_train = train[:, 0:3]\n",
    "y_train = train[:, 3]\n",
    "\n",
    "x_test = test[:, 0:3]\n",
    "y_test = test[:, 3]\n",
    "\n",
    "print(x_train.shape, y_train.shape)\n",
    "print(x_test.shape, y_test.shape)"
   ]
  },
  {
   "cell_type": "code",
   "execution_count": 11,
   "id": "vietnamese-allocation",
   "metadata": {},
   "outputs": [
    {
     "name": "stdout",
     "output_type": "stream",
     "text": [
      "[1.         0.94574326 5.10408688]\n",
      "1.0\n"
     ]
    }
   ],
   "source": [
    "print(x_train[0])\n",
    "print(y_train[0])"
   ]
  },
  {
   "cell_type": "code",
   "execution_count": 35,
   "id": "durable-london",
   "metadata": {},
   "outputs": [],
   "source": [
    "# Todo: practice 1\n",
    "def train_perceptron(w, x, y, epoch=30):\n",
    "    cnt=0\n",
    "    while True :\n",
    "        flg=1              # flg가 1이면 모든 데이터가 잘 분류되었다는 의미\n",
    "        mul = 1\n",
    "        for idx in range(len(x)):                #데이터 전체에 대해 loop돌면서 계산\n",
    "            if y[idx] ==0: mul = -1            #target이 0이면 mul = -1 \n",
    "            else : mul = 1                     # target이 1이면 mul =1 \n",
    "            temp=0\n",
    "            for i in range(3):             \n",
    "                temp += mul*w[i]*x[idx][i]              # w와 x 내적한 값에 mul을 곱하여 temp에 저장\n",
    "            if temp<0:                  #temp가 0보다 크지 않으면 misclassified이므로 w수정\n",
    "                flg=0 \n",
    "        if flg==1 or cnt == epoch :                     # 모든 데이터가 잘 분류되었거나, cnt가 30이 되면 종료.\n",
    "            break\n",
    "        if y[idx] ==0: mul = -1            #target이 0이면 mul = -1 \n",
    "        else : mul = 1                     # target이 1이면 mul =1 \n",
    "             \n",
    "        for j in range(3):\n",
    "            w[j] += x[idx][j]*mul                       #misclassified x에 mul 곱한 값을 w에 더해준다.\n",
    "        print(cnt, w)\n",
    "        cnt += 1\n",
    "    return w"
   ]
  },
  {
   "cell_type": "code",
   "execution_count": 13,
   "id": "organizational-concentrate",
   "metadata": {},
   "outputs": [],
   "source": [
    "# w 와 x1 을 이용해 x2 값을 구함\n",
    "\n",
    "def x2(x1, w):\n",
    "    w0 = w[0]\n",
    "    w1 = w[1]\n",
    "    w2 = w[2]\n",
    "    x2 = []\n",
    "    for i in range(len(x1 - 1)):\n",
    "        x2_temp = (-w0 -w1 * x1[i]) / w2\n",
    "        x2.append(x2_temp)\n",
    "    return x2\n",
    "\n",
    "# visualizaing decision boundary\n",
    "\n",
    "def show_plt(w, class_data, labels):\n",
    "#   w and class_data are 2-element with no bias, and 3-element with bias\n",
    "    len_w = len(w)\n",
    "    sh_data = class_data.shape\n",
    "    if len_w != sh_data[1]:\n",
    "        print('error: w and data dimension does not match')\n",
    "        return\n",
    "    \n",
    "    if len_w == 3:\n",
    "        class_data = class_data[:,1:]\n",
    "        \n",
    "    min = np.min(class_data[:, 0])\n",
    "    max = np.max(class_data[:, 0])\n",
    "    \n",
    "    x1 = np.linspace(min, max, 100)\n",
    "    x1 = x1.reshape(len(x1),1)\n",
    "    x_2 = np.asarray(x2(x1, w))\n",
    "    \n",
    "    data_zeros = class_data[labels == 0]\n",
    "    data_ones = class_data[labels == 1]\n",
    "    \n",
    "    plt.scatter(data_zeros[:, 0], data_zeros[:, 1], c = 'r', label='0')\n",
    "    plt.scatter(data_ones[:, 0], data_ones[:, 1], c = 'b', label='1')\n",
    "    plt.plot(x1, x_2)\n",
    "\n",
    "    plt.legend()\n",
    "    plt.show()\n",
    "    "
   ]
  },
  {
   "cell_type": "code",
   "execution_count": 23,
   "id": "sitting-conversion",
   "metadata": {},
   "outputs": [
    {
     "data": {
      "image/png": "[encoded data removed]",
      "text/plain": [
       "<Figure size 432x288 with 1 Axes>"
      ]
     },
     "metadata": {
      "needs_background": "light"
     },
     "output_type": "display_data"
    }
   ],
   "source": [
    "w = np.random.rand(len(x_train[0]))\n",
    "\n",
    "\n",
    "show_plt(w, x_train, y_train)"
   ]
  },
  {
   "cell_type": "code",
   "execution_count": 36,
   "id": "vertical-indonesia",
   "metadata": {},
   "outputs": [
    {
     "name": "stdout",
     "output_type": "stream",
     "text": [
      "0 [0 2 5]\n",
      "1 [-1  3  9]\n",
      "2 [-2  4 13]\n",
      "3 [-3  5 17]\n",
      "4 [-4  6 21]\n",
      "5 [-5  7 25]\n",
      "6 [-6  8 29]\n",
      "7 [-7  9 33]\n",
      "8 [-8 10 37]\n",
      "9 [-9 11 41]\n",
      "10 [-10  12  45]\n",
      "11 [-11  13  49]\n",
      "12 [-12  14  53]\n",
      "13 [-13  15  57]\n",
      "14 [-14  16  61]\n",
      "15 [-15  17  65]\n",
      "16 [-16  18  69]\n",
      "17 [-17  19  73]\n",
      "18 [-18  20  77]\n",
      "19 [-19  21  81]\n",
      "20 [-20  22  85]\n",
      "21 [-21  23  89]\n",
      "22 [-22  24  93]\n",
      "23 [-23  25  97]\n",
      "24 [-24  26 101]\n",
      "25 [-25  27 105]\n",
      "26 [-26  28 109]\n",
      "27 [-27  29 113]\n",
      "28 [-28  30 117]\n",
      "29 [-29  31 121]\n",
      "The weights are: [-29  31 121]\n"
     ]
    },
    {
     "data": {
      "image/png": "[encoded data removed]",
      "text/plain": [
       "<Figure size 432x288 with 1 Axes>"
      ]
     },
     "metadata": {
      "needs_background": "light"
     },
     "output_type": "display_data"
    }
   ],
   "source": [
    "nw = np.array([1,1,1])\n",
    "nxt = np.array([\n",
    "    [1,-2,7],\n",
    "      [1,1,5],\n",
    "      [1,-1,3],\n",
    "      [1,3,3],\n",
    "      [1,2,3],\n",
    "      [1,-1,-4]])\n",
    "nyt = np.array([1,1,1,0,0,0])\n",
    "w = train_perceptron(nw, nxt,nyt)\n",
    "\n",
    "#w = train_perceptron(w, train_x,train_y)\n",
    "\n",
    "print(\"The weights are:\", nw)\n",
    "\n",
    "show_plt(nw, nxt, nyt)\n",
    "\n",
    "# Do not change\n",
    "lab1_student_answer_w = nw"
   ]
  },
  {
   "cell_type": "code",
   "execution_count": null,
   "id": "hybrid-shipping",
   "metadata": {},
   "outputs": [],
   "source": [
    "show_plt(w, x_train, y_train)"
   ]
  },
  {
   "cell_type": "code",
   "execution_count": null,
   "id": "overall-venice",
   "metadata": {},
   "outputs": [],
   "source": [
    "show_plt(w, x_test, y_test)"
   ]
  },
  {
   "cell_type": "markdown",
   "id": "retired-broadcasting",
   "metadata": {},
   "source": [
    "## Practice 2\n",
    "\n",
    "hyperplane이 구해지는 최소 epoch를 출력할 수 있도록 train_perceptron 코드를 수정하시오."
   ]
  },
  {
   "cell_type": "code",
   "execution_count": null,
   "id": "immediate-particular",
   "metadata": {},
   "outputs": [],
   "source": [
    "num_data = 1000\n",
    "\n",
    "class_zeros = np.random.multivariate_normal(mean=[0,0], cov=[[1.,.95],[.95,1.]], size=num_data)\n",
    "class_ones = np.random.multivariate_normal(mean=[1,5], cov=[[1.,.85],[.85,1.]], size=num_data)\n",
    "\n",
    "biases = np.ones((2 * num_data, 1))\n",
    "\n",
    "class_data = np.vstack((class_zeros, class_ones)).astype(np.float32)\n",
    "\n",
    "features = np.hstack((biases, class_data))\n",
    "\n",
    "label_zeros = np.zeros((num_data, 1))\n",
    "label_ones = np.ones((num_data, 1))\n",
    "\n",
    "labels = np.vstack((label_zeros, label_ones))\n",
    "dataset = np.hstack((features,labels))\n",
    "\n",
    "plt.scatter(features[:, 1][:num_data], features[:, 2][:num_data], c = 'r', label='0')\n",
    "plt.scatter(features[:, 1][num_data:], features[:, 2][num_data:], c = 'b', label='1')\n",
    "\n",
    "plt.legend()\n",
    "plt.show()"
   ]
  },
  {
   "cell_type": "code",
   "execution_count": null,
   "id": "compound-symbol",
   "metadata": {},
   "outputs": [],
   "source": [
    "np.random.shuffle(dataset)\n",
    "\n",
    "split_ratio = 0.7\n",
    "\n",
    "train = dataset[0:int(split_ratio * (num_data * 2))]\n",
    "test = dataset[int(split_ratio * (num_data * 2)):(num_data * 2)]\n",
    "\n",
    "x_train = train[:, 0:3]\n",
    "y_train = train[:, 3]\n",
    "\n",
    "x_test = test[:, 0:3]\n",
    "y_test = test[:, 3]\n",
    "\n",
    "\n",
    "# Todo: practice 2\n",
    "def train_perceptron(w, x, y,epoch=30):\n",
    "\n",
    "    cnt=0\n",
    "    eta = 0.1                   # 학습률 0.1로 설정 , w 변화의 폭을 조정한다.\n",
    "    while True :\n",
    "        flg = 1\n",
    "        mul = 1\n",
    "        for idx in range(len(x)):\n",
    "            if y[idx] ==0: mul = -1              #label이 0이면 mul은 -1\n",
    "            else : mul = 1                       #label이 1이면 mul은 1\n",
    "            temp=0\n",
    "            for i in range(3):\n",
    "                temp += mul*w[i]*x[idx][i]        # w와 x를 내적한 값에 mul을 곱하고 그 결과를 temp에 저장\n",
    "            if temp<=0:                    #temp가 양수가 아니면 잘못 분류한 것이므로 w 수정\n",
    "                flg=0\n",
    "                for j in range(3):\n",
    "                    w[j] += x[idx][j]*mul*eta         # w수정할 때 x와 mul 곱한 값에 eta까지 곱하여 수정. \n",
    "        if flg==1 or cnt == 30 :        # 모든 데이터를 잘 분류했거나 cnt가 30이 되어 있으면 break한다. \n",
    "            break\n",
    "        cnt += 1\n",
    "    min_epoch = cnt                #cnt를 min_epoch에 저장하여 몇 바퀴 돌았는지 본다.\n",
    "    print(f\"min_epoch : {min_epoch}\")\n",
    "    return w, min_epoch"
   ]
  },
  {
   "cell_type": "code",
   "execution_count": null,
   "id": "center-purchase",
   "metadata": {},
   "outputs": [],
   "source": [
    "w = np.random.rand(len(x_train[0]))\n",
    "\n",
    "show_plt(w, x_train, y_train)"
   ]
  },
  {
   "cell_type": "code",
   "execution_count": null,
   "id": "mobile-cleanup",
   "metadata": {},
   "outputs": [],
   "source": [
    "w, min_epoch = train_perceptron(w, x_train, y_train)\n",
    "\n",
    "print(\"The weights are:\", w)\n",
    "\n",
    "# Do not change -->\n",
    "lab1_student_answer_w2 = w\n",
    "lab1_stduent_answer_min_epoch = min_epoch\n",
    "# <--\n",
    "show_plt(w, x_train, y_train)"
   ]
  },
  {
   "cell_type": "code",
   "execution_count": null,
   "id": "growing-hazard",
   "metadata": {},
   "outputs": [],
   "source": [
    "show_plt(w, x_test, y_test)"
   ]
  },
  {
   "cell_type": "markdown",
   "id": "institutional-likelihood",
   "metadata": {},
   "source": [
    "## Practice 3\n",
    "\n",
    "hyperplane이 구해지는 최소 epoch를 줄일 수 있도록 train_perceptron 코드를 수정하시오."
   ]
  },
  {
   "cell_type": "code",
   "execution_count": null,
   "id": "frequent-europe",
   "metadata": {},
   "outputs": [],
   "source": [
    "# Todo: practice 3\n",
    "def train_perceptron(w, x, y, epoch=30):\n",
    "\n",
    "    cnt=0\n",
    "    eta = 1                 # 학습률을 1로 설정하여 가중치의 변화가 크게끔 하였다.\n",
    "    while True :\n",
    "        flg=1\n",
    "        mul = 1\n",
    "        for idx in range(len(x)):\n",
    "            if y[idx] ==0: mul = -1                    #label이 0이면 mul=-1\n",
    "            else : mul = 1                             #label이 1이면 mul= 1\n",
    "            temp=0\n",
    "            for i in range(3):\n",
    "                temp += mul*w[i]*x[idx][i]              #x와 w를 내적한 값에 mul을 곱하고 temp에 더한다.\n",
    "            if temp<=0:                                 # temp 값이 양수가 아니면 잘못 분류한 것이므로 w수정한다.\n",
    "                flg=0\n",
    "                for j in range(3):\n",
    "                    w[j] += x[idx][j]*mul*eta           # w수정할 때 x와 mul 곱한 값에 eta까지 곱하여 수정한다.\n",
    "        if flg==1 or cnt == epoch: break                # 모든 데이터를 잘 분류했거나 , cnt가 30까지 도달하면 강제로 멈춘다.\n",
    "        cnt += 1\n",
    "    min_epoch = cnt                                     # min_epoch에 cnt를 저장한다.\n",
    "    print(f\"min_epoch : {min_epoch}\")\n",
    "    return w, min_epoch"
   ]
  },
  {
   "cell_type": "code",
   "execution_count": null,
   "id": "cardiovascular-street",
   "metadata": {},
   "outputs": [],
   "source": [
    "w = np.random.rand(len(x_train[0]))\n",
    "\n",
    "show_plt(w, x_train, y_train)"
   ]
  },
  {
   "cell_type": "code",
   "execution_count": null,
   "id": "statewide-infrastructure",
   "metadata": {},
   "outputs": [],
   "source": [
    "w, min_epoch = train_perceptron(w, x_train, y_train)\n",
    "\n",
    "print(\"The weights are:\", w)\n",
    "\n",
    "# Do not change -->\n",
    "lab1_student_answer_w3 = w\n",
    "lab1_stduent_answer_min_epoch3 = min_epoch\n",
    "# <--\n",
    "show_plt(w, x_train, y_train)"
   ]
  },
  {
   "cell_type": "code",
   "execution_count": null,
   "id": "sized-laptop",
   "metadata": {},
   "outputs": [],
   "source": [
    "show_plt(w, x_test, y_test)"
   ]
  },
  {
   "cell_type": "markdown",
   "id": "strategic-uniform",
   "metadata": {},
   "source": [
    "수고하셨습니다. \n",
    "\n",
    "조교메일: cvipsj@sogang.ac.kr"
   ]
  },
  {
   "cell_type": "markdown",
   "id": "human-chemical",
   "metadata": {},
   "source": [
    "# 정답 확인용\n",
    "\n",
    "수정금지 - 조교"
   ]
  },
  {
   "cell_type": "code",
   "execution_count": null,
   "id": "disturbed-grounds",
   "metadata": {},
   "outputs": [],
   "source": [
    "print(f'학번: {lab1_student_id}')\n",
    "print(f'이름: {lab1_student_name}')"
   ]
  },
  {
   "cell_type": "code",
   "execution_count": null,
   "id": "floral-switzerland",
   "metadata": {},
   "outputs": [],
   "source": [
    "print(f'Answer of practice 1: {abs(sum(lab1_student_answer_w - [-4.179, -2.512, 3.055])) < 0.01}')"
   ]
  },
  {
   "cell_type": "code",
   "execution_count": null,
   "id": "owned-interval",
   "metadata": {},
   "outputs": [],
   "source": [
    "print(f'Answer of practice 2: {abs(sum(lab1_student_answer_w2 - [-6.628, -4.476, 5.423])) < 0.01}')\n",
    "print(f'Min epochs at practice 2: {lab1_stduent_answer_min_epoch}')"
   ]
  },
  {
   "cell_type": "code",
   "execution_count": null,
   "id": "dated-smooth",
   "metadata": {},
   "outputs": [],
   "source": [
    "print(f'Answer of practice 2: {lab1_student_answer_w3}')\n",
    "print(f'Min epochs at practice 2: {lab1_stduent_answer_min_epoch3}')"
   ]
  },
  {
   "cell_type": "code",
   "execution_count": null,
   "id": "surgical-flexibility",
   "metadata": {},
   "outputs": [],
   "source": []
  }
 ],
 "metadata": {
  "kernelspec": {
   "display_name": "Python 3",
   "language": "python",
   "name": "python3"
  },
  "language_info": {
   "codemirror_mode": {
    "name": "ipython",
    "version": 3
   },
   "file_extension": ".py",
   "mimetype": "text/x-python",
   "name": "python",
   "nbconvert_exporter": "python",
   "pygments_lexer": "ipython3",
   "version": "3.9.1"
  }
 },
 "nbformat": 4,
 "nbformat_minor": 5
}
